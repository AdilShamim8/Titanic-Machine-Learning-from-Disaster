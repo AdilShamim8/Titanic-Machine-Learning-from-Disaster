{
 "cells": [
  {
   "attachments": {
    "912e7444-1be7-4c71-90c3-c919ff927b46.png": {
     "image/png": "[encoded data removed]"
    }
   },
   "cell_type": "markdown",
   "metadata": {},
   "source": [
    "> # Titanic - Machine Learning from Disaster\n",
    "![](https://media.cnn.com/api/v1/images/stellar/prod/230213144330-02-titanic-25th-anniversary-restricted.jpg?c=16x9&q=h_833,w_1480,c_fill)"
   ]
  },
  {
   "cell_type": "markdown",
   "metadata": {},
   "source": [
    "## The Titanic Competition: Our Setting & Story\n",
    "Imagine that our dataset is the deck of the Titanic. Each row is a passenger, with details like age, fare, class, and the cabin they were assigned. Our ultimate mission? To predict whether each passenger survived the tragedy. Just as I (Jack) would strive to keep you (Rose) safe amidst the chaos, our model’s job is to \"rescue\" the correct predictions from a sea of data."
   ]
  },
  {
   "cell_type": "markdown",
   "metadata": {},
   "source": [
    "## Import Necessary Libraries"
   ]
  },
  {
   "cell_type": "markdown",
   "metadata": {},
   "source": [
    "Aye aye, Captain Rose! Let's continue our Titanic journey, where every line of code is another step on deck—and every library we import is like boarding a lifeboat of knowledge.\n",
    "\n",
    "Below, I’ll annotate your code with fun, story-rich explanations so you understand what’s happening like you’re part of an epic romantic ML voyage "
   ]
  },
  {
   "cell_type": "markdown",
   "metadata": {},
   "source": [
    "####  Starting Our Voyage: Data Analysis & Wrangling"
   ]
  },
  {
   "cell_type": "code",
   "execution_count": 37,
   "metadata": {
    "execution": {
     "iopub.execute_input": "2025-04-12T12:10:06.841539Z",
     "iopub.status.busy": "2025-04-12T12:10:06.841184Z",
     "iopub.status.idle": "2025-04-12T12:10:06.846081Z",
     "shell.execute_reply": "2025-04-12T12:10:06.845138Z",
     "shell.execute_reply.started": "2025-04-12T12:10:06.841517Z"
    },
    "trusted": true
   },
   "outputs": [],
   "source": [
    "# data analysis and wrangling\n",
    "import pandas as pd\n",
    "import numpy as np"
   ]
  },
  {
   "cell_type": "markdown",
   "metadata": {},
   "source": [
    " **Story Mode:**  \n",
    " \n",
    "Welcome aboard, passengers! Before we explore who survives, we need to **check the passenger list**, right? That’s where **Pandas** (`pd`) comes in—it's our logbook, helping us store, clean, and inspect the data (passenger names, age, class, etc.).\n",
    "\n",
    "`numpy` (`np`) helps us work with numerical data. Imagine it as your ship's compass—essential for calculations like age ranges, fare totals, or average survival rates."
   ]
  },
  {
   "cell_type": "markdown",
   "metadata": {},
   "source": [
    "#### Visualizing the Deck: Who’s Where and How?"
   ]
  },
  {
   "cell_type": "code",
   "execution_count": 38,
   "metadata": {
    "execution": {
     "iopub.execute_input": "2025-04-12T12:10:06.939225Z",
     "iopub.status.busy": "2025-04-12T12:10:06.938887Z",
     "iopub.status.idle": "2025-04-12T12:10:06.945307Z",
     "shell.execute_reply": "2025-04-12T12:10:06.944137Z",
     "shell.execute_reply.started": "2025-04-12T12:10:06.939202Z"
    },
    "trusted": true
   },
   "outputs": [],
   "source": [
    "# visualization\n",
    "import seaborn as sns\n",
    "import matplotlib.pyplot as plt\n",
    "%matplotlib inline"
   ]
  },
  {
   "cell_type": "markdown",
   "metadata": {},
   "source": [
    "**Story Mode:**  \n",
    "Time to stand at the bow like Jack and gaze at the vast ocean of data!  \n",
    "We use **Seaborn (`sns`)** and **Matplotlib (`plt`)** to create stunning visualizations—charts and plots that reveal hidden patterns.\n",
    "\n",
    "Want to see how many women survived? Or how survival rates change by ticket class? This is our sketchbook, helping us paint the big picture of life on the Titanic.\n",
    "\n",
    "`%matplotlib inline` is like telling the Captain: *“Show the graphs directly on the ship’s map (Jupyter Notebook)!”*"
   ]
  },
  {
   "cell_type": "markdown",
   "metadata": {},
   "source": [
    "#### Time to Set Sail: Importing Our ML Crew"
   ]
  },
  {
   "cell_type": "code",
   "execution_count": 39,
   "metadata": {
    "execution": {
     "iopub.execute_input": "2025-04-12T12:10:07.078915Z",
     "iopub.status.busy": "2025-04-12T12:10:07.078607Z",
     "iopub.status.idle": "2025-04-12T12:10:07.085108Z",
     "shell.execute_reply": "2025-04-12T12:10:07.083811Z",
     "shell.execute_reply.started": "2025-04-12T12:10:07.078894Z"
    },
    "trusted": true
   },
   "outputs": [],
   "source": [
    "# machine learning\n",
    "from sklearn.linear_model import LogisticRegression\n",
    "from sklearn.svm import SVC, LinearSVC\n",
    "from sklearn.ensemble import RandomForestClassifier\n",
    "from sklearn.neighbors import KNeighborsClassifier\n",
    "from sklearn.naive_bayes import GaussianNB\n",
    "from sklearn.linear_model import Perceptron\n",
    "from sklearn.linear_model import SGDClassifier\n",
    "from sklearn.tree import DecisionTreeClassifier\n",
    "\n",
    "#ignore warnings\n",
    "import warnings\n",
    "warnings.filterwarnings('ignore')"
   ]
  },
  {
   "cell_type": "markdown",
   "metadata": {},
   "source": [
    " **Story Mode:**  \n",
    "This is our crew of **machine learning models**, each with its own way of navigating the iceberg-filled sea of data:\n",
    "\n",
    "1. **Logistic Regression** – The rational officer. Makes clear decisions—*“Will this person survive? Yes or no.”* \n",
    "2. **SVC / LinearSVC (Support Vector Machines)** – The swordfighter of the ship. Draws the best line (or hyperplane) between survivors and non-survivors. ⚔️\n",
    "3. **Random Forest Classifier** – A council of wise trees. It takes votes from multiple decision trees to make accurate predictions. \n",
    "4. **K-Nearest Neighbors (KNN)** – Like a curious passenger who asks nearby folks, “What happened to you? I’ll assume the same fate.” \n",
    "5. **Naive Bayes (GaussianNB)** – A calm statistician who calculates survival odds using probability theory. \n",
    "6. **Perceptron** – A simple neural net, learning one mistake at a time. Like a young sailor training for bigger voyages. \n",
    "7. **SGDClassifier** – A speedy guy with a map, tweaking his route at every step. Great for huge datasets. \n",
    "8. **Decision Tree** – The judge! Breaks down decisions step-by-step like: *Is this passenger in 1st class? Is she female? Is she under 15?* \n",
    "\n",
    "---"
   ]
  },
  {
   "cell_type": "markdown",
   "metadata": {},
   "source": [
    "### 🧡 Final Romantic Touch\n",
    "Every model is like a lifeboat you (Rose) and I (Jack) might choose to escape the sinking ship. Some are faster, some are more accurate, and some are better in certain situations. Our goal? Try them all, compare them, and see which one gets the most people safely to shore."
   ]
  },
  {
   "cell_type": "markdown",
   "metadata": {},
   "source": [
    "> #### **Perfect! Now we’re stepping onto the Titanic's deck, holding the passenger lists in our hands. Here's the short, fun story version of your code with notes:**"
   ]
  },
  {
   "cell_type": "code",
   "execution_count": 40,
   "metadata": {
    "execution": {
     "iopub.execute_input": "2025-04-12T12:10:07.169331Z",
     "iopub.status.busy": "2025-04-12T12:10:07.168974Z",
     "iopub.status.idle": "2025-04-12T12:10:07.185989Z",
     "shell.execute_reply": "2025-04-12T12:10:07.184735Z",
     "shell.execute_reply.started": "2025-04-12T12:10:07.169306Z"
    },
    "trusted": true
   },
   "outputs": [],
   "source": [
    "#  Boarding the Ship – Reading Passenger Lists\n",
    "train = pd.read_csv(\"/kaggle/input/titanic/train.csv\")   # Jack grabs the list of passengers we know survived or not\n",
    "test = pd.read_csv(\"/kaggle/input/titanic/test.csv\")     # Rose looks at the passengers where we need to *guess* survival"
   ]
  },
  {
   "cell_type": "markdown",
   "metadata": {},
   "source": [
    "####  What’s Going On?\n",
    "\n",
    "- `train` = the **known story**: who survived, who didn’t.  \n",
    "- `test` = the **mystery story**: we’ll predict these passengers’ fate based on what we’ve learned."
   ]
  },
  {
   "cell_type": "markdown",
   "metadata": {},
   "source": [
    "\n",
    ">#### **Aye aye, Rose! Now we're inspecting the passenger manifest—checking what details we actually have for each person onboard Here’s your short-and-sweet code with a fun twist:**\n"
   ]
  },
  {
   "cell_type": "code",
   "execution_count": 41,
   "metadata": {
    "execution": {
     "iopub.execute_input": "2025-04-12T12:10:07.274584Z",
     "iopub.status.busy": "2025-04-12T12:10:07.273327Z",
     "iopub.status.idle": "2025-04-12T12:10:07.280123Z",
     "shell.execute_reply": "2025-04-12T12:10:07.278923Z",
     "shell.execute_reply.started": "2025-04-12T12:10:07.274545Z"
    },
    "trusted": true
   },
   "outputs": [
    {
     "name": "stdout",
     "output_type": "stream",
     "text": [
      "Index(['PassengerId', 'Survived', 'Pclass', 'Name', 'Sex', 'Age', 'SibSp',\n",
      "       'Parch', 'Ticket', 'Fare', 'Cabin', 'Embarked'],\n",
      "      dtype='object')\n"
     ]
    }
   ],
   "source": [
    "# Let's see what info we have about each passenger\n",
    "print(train.columns)   # Like reading the labels on each passenger's file: name, age, ticket, etc."
   ]
  },
  {
   "cell_type": "markdown",
   "metadata": {},
   "source": [
    "#### What does this tell us?\n",
    "\n",
    "Jack and Rose are flipping through the files and saying:\n",
    "> *“Okay, we have these columns: `Name`, `Age`, `Fare`, `Sex`, `Pclass`, etc. Some of these might help us figure out who had a better chance of survival!”*\n",
    "\n",
    "Each column = a **feature** or **clue** in our investigation:\n",
    "- `Survived` → Our target!  (1 = Lived, 0 = Not)\n",
    "- `Sex`, `Age`, `Pclass` → Could be very important!\n",
    "- `Cabin`, `Embarked` → Maybe useful, maybe messy?"
   ]
  },
  {
   "cell_type": "code",
   "execution_count": 42,
   "metadata": {
    "execution": {
     "iopub.execute_input": "2025-04-12T12:10:07.346667Z",
     "iopub.status.busy": "2025-04-12T12:10:07.346264Z",
     "iopub.status.idle": "2025-04-12T12:10:07.377649Z",
     "shell.execute_reply": "2025-04-12T12:10:07.376397Z",
     "shell.execute_reply.started": "2025-04-12T12:10:07.346642Z"
    },
    "trusted": true
   },
   "outputs": [
    {
     "data": {
      "text/html": [
       "<div>\n",
       "<style scoped>\n",
       "    .dataframe tbody tr th:only-of-type {\n",
       "        vertical-align: middle;\n",
       "    }\n",
       "\n",
       "    .dataframe tbody tr th {\n",
       "        vertical-align: top;\n",
       "    }\n",
       "\n",
       "    .dataframe thead th {\n",
       "        text-align: right;\n",
       "    }\n",
       "</style>\n",
       "<table border=\"1\" class=\"dataframe\">\n",
       "  <thead>\n",
       "    <tr style=\"text-align: right;\">\n",
       "      <th></th>\n",
       "      <th>PassengerId</th>\n",
       "      <th>Survived</th>\n",
       "      <th>Pclass</th>\n",
       "      <th>Age</th>\n",
       "      <th>SibSp</th>\n",
       "      <th>Parch</th>\n",
       "      <th>Fare</th>\n",
       "    </tr>\n",
       "  </thead>\n",
       "  <tbody>\n",
       "    <tr>\n",
       "      <th>count</th>\n",
       "      <td>891.000000</td>\n",
       "      <td>891.000000</td>\n",
       "      <td>891.000000</td>\n",
       "      <td>714.000000</td>\n",
       "      <td>891.000000</td>\n",
       "      <td>891.000000</td>\n",
       "      <td>891.000000</td>\n",
       "    </tr>\n",
       "    <tr>\n",
       "      <th>mean</th>\n",
       "      <td>446.000000</td>\n",
       "      <td>0.383838</td>\n",
       "      <td>2.308642</td>\n",
       "      <td>29.699118</td>\n",
       "      <td>0.523008</td>\n",
       "      <td>0.381594</td>\n",
       "      <td>32.204208</td>\n",
       "    </tr>\n",
       "    <tr>\n",
       "      <th>std</th>\n",
       "      <td>257.353842</td>\n",
       "      <td>0.486592</td>\n",
       "      <td>0.836071</td>\n",
       "      <td>14.526497</td>\n",
       "      <td>1.102743</td>\n",
       "      <td>0.806057</td>\n",
       "      <td>49.693429</td>\n",
       "    </tr>\n",
       "    <tr>\n",
       "      <th>min</th>\n",
       "      <td>1.000000</td>\n",
       "      <td>0.000000</td>\n",
       "      <td>1.000000</td>\n",
       "      <td>0.420000</td>\n",
       "      <td>0.000000</td>\n",
       "      <td>0.000000</td>\n",
       "      <td>0.000000</td>\n",
       "    </tr>\n",
       "    <tr>\n",
       "      <th>25%</th>\n",
       "      <td>223.500000</td>\n",
       "      <td>0.000000</td>\n",
       "      <td>2.000000</td>\n",
       "      <td>20.125000</td>\n",
       "      <td>0.000000</td>\n",
       "      <td>0.000000</td>\n",
       "      <td>7.910400</td>\n",
       "    </tr>\n",
       "    <tr>\n",
       "      <th>50%</th>\n",
       "      <td>446.000000</td>\n",
       "      <td>0.000000</td>\n",
       "      <td>3.000000</td>\n",
       "      <td>28.000000</td>\n",
       "      <td>0.000000</td>\n",
       "      <td>0.000000</td>\n",
       "      <td>14.454200</td>\n",
       "    </tr>\n",
       "    <tr>\n",
       "      <th>75%</th>\n",
       "      <td>668.500000</td>\n",
       "      <td>1.000000</td>\n",
       "      <td>3.000000</td>\n",
       "      <td>38.000000</td>\n",
       "      <td>1.000000</td>\n",
       "      <td>0.000000</td>\n",
       "      <td>31.000000</td>\n",
       "    </tr>\n",
       "    <tr>\n",
       "      <th>max</th>\n",
       "      <td>891.000000</td>\n",
       "      <td>1.000000</td>\n",
       "      <td>3.000000</td>\n",
       "      <td>80.000000</td>\n",
       "      <td>8.000000</td>\n",
       "      <td>6.000000</td>\n",
       "      <td>512.329200</td>\n",
       "    </tr>\n",
       "  </tbody>\n",
       "</table>\n",
       "</div>"
      ],
      "text/plain": [
       "       PassengerId    Survived      Pclass         Age       SibSp  \\\n",
       "count   891.000000  891.000000  891.000000  714.000000  891.000000   \n",
       "mean    446.000000    0.383838    2.308642   29.699118    0.523008   \n",
       "std     257.353842    0.486592    0.836071   14.526497    1.102743   \n",
       "min       1.000000    0.000000    1.000000    0.420000    0.000000   \n",
       "25%     223.500000    0.000000    2.000000   20.125000    0.000000   \n",
       "50%     446.000000    0.000000    3.000000   28.000000    0.000000   \n",
       "75%     668.500000    1.000000    3.000000   38.000000    1.000000   \n",
       "max     891.000000    1.000000    3.000000   80.000000    8.000000   \n",
       "\n",
       "            Parch        Fare  \n",
       "count  891.000000  891.000000  \n",
       "mean     0.381594   32.204208  \n",
       "std      0.806057   49.693429  \n",
       "min      0.000000    0.000000  \n",
       "25%      0.000000    7.910400  \n",
       "50%      0.000000   14.454200  \n",
       "75%      0.000000   31.000000  \n",
       "max      6.000000  512.329200  "
      ]
     },
     "execution_count": 42,
     "metadata": {},
     "output_type": "execute_result"
    }
   ],
   "source": [
    "# Peek at the passenger data\n",
    "train.describe()    # Gives us stats like average age, ticket fare, etc. — to spot patterns in survival"
   ]
  },
  {
   "cell_type": "markdown",
   "metadata": {},
   "source": [
    "Imagine Rose holding up a document and saying,  \n",
    " - **“Jack, did you know the *average passenger age* was about 29? And only about *38% survived*?”**"
   ]
  },
  {
   "cell_type": "markdown",
   "metadata": {},
   "source": [
    "\n",
    ">#### Ah, perfect! Now Jack and Rose are peeking into 5 random passenger files to get a feel for who's on board and what kind of information we’re working with.\n",
    "> \n",
    "> Here’s your code with a short, fun note:\n"
   ]
  },
  {
   "cell_type": "code",
   "execution_count": 43,
   "metadata": {
    "execution": {
     "iopub.execute_input": "2025-04-12T12:10:07.443756Z",
     "iopub.status.busy": "2025-04-12T12:10:07.443375Z",
     "iopub.status.idle": "2025-04-12T12:10:07.459924Z",
     "shell.execute_reply": "2025-04-12T12:10:07.458810Z",
     "shell.execute_reply.started": "2025-04-12T12:10:07.443733Z"
    },
    "trusted": true
   },
   "outputs": [
    {
     "data": {
      "text/html": [
       "<div>\n",
       "<style scoped>\n",
       "    .dataframe tbody tr th:only-of-type {\n",
       "        vertical-align: middle;\n",
       "    }\n",
       "\n",
       "    .dataframe tbody tr th {\n",
       "        vertical-align: top;\n",
       "    }\n",
       "\n",
       "    .dataframe thead th {\n",
       "        text-align: right;\n",
       "    }\n",
       "</style>\n",
       "<table border=\"1\" class=\"dataframe\">\n",
       "  <thead>\n",
       "    <tr style=\"text-align: right;\">\n",
       "      <th></th>\n",
       "      <th>PassengerId</th>\n",
       "      <th>Survived</th>\n",
       "      <th>Pclass</th>\n",
       "      <th>Name</th>\n",
       "      <th>Sex</th>\n",
       "      <th>Age</th>\n",
       "      <th>SibSp</th>\n",
       "      <th>Parch</th>\n",
       "      <th>Ticket</th>\n",
       "      <th>Fare</th>\n",
       "      <th>Cabin</th>\n",
       "      <th>Embarked</th>\n",
       "    </tr>\n",
       "  </thead>\n",
       "  <tbody>\n",
       "    <tr>\n",
       "      <th>43</th>\n",
       "      <td>44</td>\n",
       "      <td>1</td>\n",
       "      <td>2</td>\n",
       "      <td>Laroche, Miss. Simonne Marie Anne Andree</td>\n",
       "      <td>female</td>\n",
       "      <td>3.0</td>\n",
       "      <td>1</td>\n",
       "      <td>2</td>\n",
       "      <td>SC/Paris 2123</td>\n",
       "      <td>41.5792</td>\n",
       "      <td>NaN</td>\n",
       "      <td>C</td>\n",
       "    </tr>\n",
       "    <tr>\n",
       "      <th>877</th>\n",
       "      <td>878</td>\n",
       "      <td>0</td>\n",
       "      <td>3</td>\n",
       "      <td>Petroff, Mr. Nedelio</td>\n",
       "      <td>male</td>\n",
       "      <td>19.0</td>\n",
       "      <td>0</td>\n",
       "      <td>0</td>\n",
       "      <td>349212</td>\n",
       "      <td>7.8958</td>\n",
       "      <td>NaN</td>\n",
       "      <td>S</td>\n",
       "    </tr>\n",
       "    <tr>\n",
       "      <th>221</th>\n",
       "      <td>222</td>\n",
       "      <td>0</td>\n",
       "      <td>2</td>\n",
       "      <td>Bracken, Mr. James H</td>\n",
       "      <td>male</td>\n",
       "      <td>27.0</td>\n",
       "      <td>0</td>\n",
       "      <td>0</td>\n",
       "      <td>220367</td>\n",
       "      <td>13.0000</td>\n",
       "      <td>NaN</td>\n",
       "      <td>S</td>\n",
       "    </tr>\n",
       "    <tr>\n",
       "      <th>710</th>\n",
       "      <td>711</td>\n",
       "      <td>1</td>\n",
       "      <td>1</td>\n",
       "      <td>Mayne, Mlle. Berthe Antonine (\"Mrs de Villiers\")</td>\n",
       "      <td>female</td>\n",
       "      <td>24.0</td>\n",
       "      <td>0</td>\n",
       "      <td>0</td>\n",
       "      <td>PC 17482</td>\n",
       "      <td>49.5042</td>\n",
       "      <td>C90</td>\n",
       "      <td>C</td>\n",
       "    </tr>\n",
       "    <tr>\n",
       "      <th>549</th>\n",
       "      <td>550</td>\n",
       "      <td>1</td>\n",
       "      <td>2</td>\n",
       "      <td>Davies, Master. John Morgan Jr</td>\n",
       "      <td>male</td>\n",
       "      <td>8.0</td>\n",
       "      <td>1</td>\n",
       "      <td>1</td>\n",
       "      <td>C.A. 33112</td>\n",
       "      <td>36.7500</td>\n",
       "      <td>NaN</td>\n",
       "      <td>S</td>\n",
       "    </tr>\n",
       "  </tbody>\n",
       "</table>\n",
       "</div>"
      ],
      "text/plain": [
       "     PassengerId  Survived  Pclass  \\\n",
       "43            44         1       2   \n",
       "877          878         0       3   \n",
       "221          222         0       2   \n",
       "710          711         1       1   \n",
       "549          550         1       2   \n",
       "\n",
       "                                                 Name     Sex   Age  SibSp  \\\n",
       "43           Laroche, Miss. Simonne Marie Anne Andree  female   3.0      1   \n",
       "877                              Petroff, Mr. Nedelio    male  19.0      0   \n",
       "221                              Bracken, Mr. James H    male  27.0      0   \n",
       "710  Mayne, Mlle. Berthe Antonine (\"Mrs de Villiers\")  female  24.0      0   \n",
       "549                    Davies, Master. John Morgan Jr    male   8.0      1   \n",
       "\n",
       "     Parch         Ticket     Fare Cabin Embarked  \n",
       "43       2  SC/Paris 2123  41.5792   NaN        C  \n",
       "877      0         349212   7.8958   NaN        S  \n",
       "221      0         220367  13.0000   NaN        S  \n",
       "710      0       PC 17482  49.5042   C90        C  \n",
       "549      1     C.A. 33112  36.7500   NaN        S  "
      ]
     },
     "execution_count": 43,
     "metadata": {},
     "output_type": "execute_result"
    }
   ],
   "source": [
    "# Sneak peek at 5 random passenger records\n",
    "train.sample(5)    # Jack pulls out 5 random files — “Let’s see who we’re dealing with...”"
   ]
  },
  {
   "cell_type": "markdown",
   "metadata": {},
   "source": [
    "#### What do we see?\n",
    "\n",
    "Each row = one person’s story  \n",
    "Each column = one detail from their journey\n",
    "\n",
    "This gives us **intuition**:  \n",
    "Rose says, *“Jack... it looks like women and children in 1st class had better chances.”*  \n",
    "Jack replies, *“Let’s test that theory soon with some graphs!”*"
   ]
  },
  {
   "cell_type": "markdown",
   "metadata": {},
   "source": [
    "##  Data Visualization¶\n",
    "It's time to visualize our data so we can see whether our predictions were accurate!"
   ]
  },
  {
   "cell_type": "markdown",
   "metadata": {},
   "source": [
    ">#### Ooooh, now Jack and Rose are getting artsy with data—sketching survival stories by age using a beautiful side-by-side chart. Let’s break it down short and sweet with the usual story twist:"
   ]
  },
  {
   "cell_type": "code",
   "execution_count": 44,
   "metadata": {
    "execution": {
     "iopub.execute_input": "2025-04-12T12:10:07.564888Z",
     "iopub.status.busy": "2025-04-12T12:10:07.564462Z",
     "iopub.status.idle": "2025-04-12T12:10:08.081027Z",
     "shell.execute_reply": "2025-04-12T12:10:08.079794Z",
     "shell.execute_reply.started": "2025-04-12T12:10:07.564847Z"
    },
    "trusted": true
   },
   "outputs": [
    {
     "data": {
      "text/plain": [
       "<seaborn.axisgrid.FacetGrid at 0x7f95fcfc9fd0>"
      ]
     },
     "execution_count": 44,
     "metadata": {},
     "output_type": "execute_result"
    },
    {
     "data": {
      "image/png": "[encoded data removed]",
      "text/plain": [
       "<Figure size 600x300 with 2 Axes>"
      ]
     },
     "metadata": {},
     "output_type": "display_data"
    }
   ],
   "source": [
    "# Drawing two charts: one for survivors (1), one for non-survivors (0)\n",
    "g = sns.FacetGrid(train, col='Survived')         # Split the passengers into two rooms: Lived & Lost\n",
    "g.map(plt.hist, 'Age', bins=20)                     # For each room, draw a histogram of passenger ages"
   ]
  },
  {
   "cell_type": "markdown",
   "metadata": {},
   "source": [
    "#### What's the idea?\n",
    "\n",
    "Rose whispers:\n",
    "> *“Let’s see if age had anything to do with surviving. Were kids saved first? Did old folks stand a chance?”*\n",
    "\n",
    "Jack adds:\n",
    "> *“This chart shows us two groups: those who survived and those who didn’t, side by side. And by plotting age, we see the age distribution for each.”*\n",
    "\n",
    "#### Interpretation (What we usually see):\n",
    "- Lots of younger passengers in the **survived** group (hello, “women and children first”) \n",
    "- Elderly survival? Less likely \n",
    "- Teen males? Often didn't make it "
   ]
  },
  {
   "cell_type": "markdown",
   "metadata": {},
   "source": [
    ">#### Whoa! Jack and Rose just leveled up their detective game — now we’re slicing the Titanic data by class AND survival, drawing age charts for each combo! It’s like looking at the ship deck-by-deck, survival-wise"
   ]
  },
  {
   "cell_type": "code",
   "execution_count": 45,
   "metadata": {
    "execution": {
     "iopub.execute_input": "2025-04-12T12:10:08.083276Z",
     "iopub.status.busy": "2025-04-12T12:10:08.082934Z",
     "iopub.status.idle": "2025-04-12T12:10:10.163388Z",
     "shell.execute_reply": "2025-04-12T12:10:10.162304Z",
     "shell.execute_reply.started": "2025-04-12T12:10:08.083252Z"
    },
    "trusted": true
   },
   "outputs": [
    {
     "data": {
      "text/plain": [
       "<seaborn.axisgrid.FacetGrid at 0x7f95fcf481d0>"
      ]
     },
     "execution_count": 45,
     "metadata": {},
     "output_type": "execute_result"
    },
    {
     "data": {
      "image/png": "[encoded data removed]",
      "text/plain": [
       "<Figure size 715.111x660 with 6 Axes>"
      ]
     },
     "metadata": {},
     "output_type": "display_data"
    }
   ],
   "source": [
    "# Charting age distribution by both Survival AND Passenger Class\n",
    "grid = sns.FacetGrid(train, col='Survived', row='Pclass', height=2.2, aspect=1.6)  # Like a matrix: rows = class (1st, 2nd, 3rd), cols = survived/didn't\n",
    "grid.map(plt.hist, 'Age', alpha=.5, bins=20)  # Plot soft-transparent histograms of age\n",
    "grid.add_legend()                             # Adds the legend so we know what the colors mean"
   ]
  },
  {
   "cell_type": "markdown",
   "metadata": {},
   "source": [
    "#### What Rose and Jack are saying now:\n",
    "\n",
    "**Rose** (studying 1st class survivors):  \n",
    "> “Look, Jack! Most people here were adults, and many survived. Being rich *did* help...”\n",
    "\n",
    "**Jack** (pointing at 3rd class non-survivors):  \n",
    "> “Yeah... and these poor folks didn’t make it. So harsh... Age AND class really mattered.”\n",
    "\n",
    "\n",
    "#### What this plot teaches us:\n",
    "- **Pclass 1** = more survivors, especially middle-aged adults  \n",
    "- **Pclass 3** = more deaths, lots of young passengers  \n",
    "- **Age** & **Pclass** seem **strong predictors** of survival"
   ]
  },
  {
   "cell_type": "markdown",
   "metadata": {},
   "source": [
    ">#### Ahh, Jack and Rose just unlocked a whole new deck of the ship — looking at where passengers boarded, their gender, ticket prices, and whether they made it or not. Now it's getting juicy!"
   ]
  },
  {
   "cell_type": "code",
   "execution_count": 46,
   "metadata": {
    "execution": {
     "iopub.execute_input": "2025-04-12T12:10:10.164852Z",
     "iopub.status.busy": "2025-04-12T12:10:10.164504Z",
     "iopub.status.idle": "2025-04-12T12:10:11.571246Z",
     "shell.execute_reply": "2025-04-12T12:10:11.570261Z",
     "shell.execute_reply.started": "2025-04-12T12:10:10.164823Z"
    },
    "trusted": true
   },
   "outputs": [
    {
     "data": {
      "text/plain": [
       "<seaborn.axisgrid.FacetGrid at 0x7f95fcda9890>"
      ]
     },
     "execution_count": 46,
     "metadata": {},
     "output_type": "execute_result"
    },
    {
     "data": {
      "image/png": "[encoded data removed]",
      "text/plain": [
       "<Figure size 715.111x660 with 6 Axes>"
      ]
     },
     "metadata": {},
     "output_type": "display_data"
    }
   ],
   "source": [
    "# Let's explore survival by boarding location (Embarked), gender (Sex), and fare paid (Fare)\n",
    "grid = sns.FacetGrid(train, row='Embarked', col='Survived', height=2.2, aspect=1.6)   # Rows = C, Q, S (ports); Cols = Survived/Not\n",
    "grid.map(sns.barplot, 'Sex', 'Fare', alpha=.5, ci=None)                                # Bar plots of average Fare for men vs. women\n",
    "grid.add_legend()                                                                       # Adds legend for clarity"
   ]
  },
  {
   "cell_type": "markdown",
   "metadata": {},
   "source": [
    "#### What Rose and Jack are seeing now:\n",
    "\n",
    "**Rose** (tilting her head at port 'C'):  \n",
    "> “Look, Jack… women paid way more for tickets here and *mostly survived*! Money talks.”\n",
    "\n",
    "**Jack** (looking at port 'S'):  \n",
    "> “But check out 'S' — both men and women paid less, and survival dropped. Third-class folks boarded there mostly...”\n",
    "\n",
    "---\n",
    "\n",
    "#### What we learn:\n",
    "- Port **Embarked (C, Q, S)** tells us where passengers got on:  \n",
    "  - C = Cherbourg 🇫🇷  \n",
    "  - Q = Queenstown 🇮🇪  \n",
    "  - S = Southampton 🇬🇧\n",
    "- Higher **fare** = better cabins = more survival \n",
    "- Women usually paid more and had higher survival rates "
   ]
  },
  {
   "cell_type": "markdown",
   "metadata": {},
   "source": [
    ">#### Ding ding! The moment of truth — Jack and Rose are asking, \"Did being a woman really make that much of a difference?\" And this chart answers with a screaming yes"
   ]
  },
  {
   "cell_type": "code",
   "execution_count": 47,
   "metadata": {
    "execution": {
     "iopub.execute_input": "2025-04-12T12:10:11.573756Z",
     "iopub.status.busy": "2025-04-12T12:10:11.573379Z",
     "iopub.status.idle": "2025-04-12T12:10:11.765087Z",
     "shell.execute_reply": "2025-04-12T12:10:11.764002Z",
     "shell.execute_reply.started": "2025-04-12T12:10:11.573735Z"
    },
    "trusted": true
   },
   "outputs": [
    {
     "name": "stdout",
     "output_type": "stream",
     "text": [
      "Percentage of females who survived: 74.20382165605095\n",
      "Percentage of males who survived: 18.890814558058924\n"
     ]
    },
    {
     "data": {
      "image/png": "[encoded data removed]",
      "text/plain": [
       "<Figure size 640x480 with 1 Axes>"
      ]
     },
     "metadata": {},
     "output_type": "display_data"
    }
   ],
   "source": [
    "# Bar plot of survival rate by gender\n",
    "sns.barplot(x=\"Sex\", y=\"Survived\", data=train)  # Easy visual: how likely men vs. women survived\n",
    "\n",
    "# Print actual percentages\n",
    "print(\"Percentage of females who survived:\", train[\"Survived\"][train[\"Sex\"] == 'female'].value_counts(normalize=True)[1] * 100)\n",
    "print(\"Percentage of males who survived:\", train[\"Survived\"][train[\"Sex\"] == 'male'].value_counts(normalize=True)[1] * 100)"
   ]
  },
  {
   "cell_type": "markdown",
   "metadata": {},
   "source": [
    "#### What Jack and Rose discover:\n",
    "\n",
    "**Bar Plot:**  \n",
    "- Women’s bar is much higher than  Men's\n",
    "- Proves *“women and children first”* policy was no joke!\n",
    "\n",
    "**Output Might Say:**\n",
    "```\n",
    "Percentage of females who survived: 74.20%\n",
    "Percentage of males who survived: 18.89%\n",
    "```\n",
    "\n",
    "#### Interpretation (from Rose & Jack’s POV):\n",
    "\n",
    "**Rose (proudly):**  \n",
    "> “See, Jack! Nearly 3 out of 4 women survived. We were given the lifeboats first.”  \n",
    "\n",
    "**Jack (half-smiling):**  \n",
    "> “And we guys… well, we mostly froze. But hey, now we’re using that stat to win a Kaggle comp.” "
   ]
  },
  {
   "cell_type": "markdown",
   "metadata": {},
   "source": [
    "## Cleaning Data "
   ]
  },
  {
   "cell_type": "markdown",
   "metadata": {},
   "source": [
    ">#### Jack and Rose are in full data-doctor mode now — patching up missing Age, Fare, and Embarked values like pros! "
   ]
  },
  {
   "cell_type": "code",
   "execution_count": 48,
   "metadata": {
    "execution": {
     "iopub.execute_input": "2025-04-12T12:10:11.766465Z",
     "iopub.status.busy": "2025-04-12T12:10:11.766205Z",
     "iopub.status.idle": "2025-04-12T12:10:11.775168Z",
     "shell.execute_reply": "2025-04-12T12:10:11.774090Z",
     "shell.execute_reply.started": "2025-04-12T12:10:11.766411Z"
    },
    "trusted": true
   },
   "outputs": [],
   "source": [
    "# Calculate the median for 'age' and 'Fare' columns  \n",
    "mediem_age = train['Age'].median()  \n",
    "mediem_fare = train['Fare'].median()  \n",
    "\n",
    "# Fill missing values  \n",
    "train['Age'] = train['Age'].fillna(mediem_age)  \n",
    "train['Embarked'] = train['Embarked'].fillna('S')  \n",
    "test['Age'] = test['Age'].fillna(mediem_age)  \n",
    "test['Fare'] = test['Fare'].fillna(mediem_fare)  "
   ]
  },
  {
   "cell_type": "markdown",
   "metadata": {},
   "source": [
    "#### Jack & Rose Scene:\n",
    "\n",
    "**Rose:**  \n",
    "> “We can’t let empty values sink our model. Missing age? Let’s guess middle-aged!”\n",
    "\n",
    "**Jack:**  \n",
    "> “Exactly — better to be ‘average’ than ‘unknown’ when the ship’s going down.” 🚢\n",
    "\n",
    "\n",
    "####  Why This Works:\n",
    "- **Median** is robust to outliers — great for filling gaps in skewed distributions\n",
    "- `Embarked = 'S'` is the most frequent → a safe default for missing ports\n",
    "- Prevents errors later on during **model training**, where NaNs can break things 💥\n",
    "\n",
    "---"
   ]
  },
  {
   "cell_type": "markdown",
   "metadata": {},
   "source": [
    ">#### Jack and Rose just tossed two useless lifeboats overboard — Ticket and Cabin — because they weren’t helping anyone survive (or helping our ML model predict anything useful). Time to clean up the deck! "
   ]
  },
  {
   "cell_type": "code",
   "execution_count": 49,
   "metadata": {
    "execution": {
     "iopub.execute_input": "2025-04-12T12:10:11.776728Z",
     "iopub.status.busy": "2025-04-12T12:10:11.776365Z",
     "iopub.status.idle": "2025-04-12T12:10:11.799149Z",
     "shell.execute_reply": "2025-04-12T12:10:11.797979Z",
     "shell.execute_reply.started": "2025-04-12T12:10:11.776697Z"
    },
    "trusted": true
   },
   "outputs": [
    {
     "name": "stdout",
     "output_type": "stream",
     "text": [
      "Before (891, 12) (418, 11)\n",
      "After (891, 10) (418, 9) (891, 10) (418, 9)\n"
     ]
    }
   ],
   "source": [
    "print(\"Before\", train.shape, test.shape)  \n",
    "\n",
    "# Drop Ticket and Cabin columns from both datasets  \n",
    "train = train.drop(['Ticket', 'Cabin'], axis=1)  \n",
    "test = test.drop(['Ticket', 'Cabin'], axis=1)  \n",
    "\n",
    "# Combine the datasets after dropping the columns  \n",
    "combine = [train, test]  \n",
    "\n",
    "# Check shapes after dropping  \n",
    "print(\"After\", train.shape, test.shape, combine[0].shape, combine[1].shape)  "
   ]
  },
  {
   "cell_type": "markdown",
   "metadata": {},
   "source": [
    "#### Jack & Rose Strategy Talk:\n",
    "\n",
    "**Rose (checking the data sheet):**  \n",
    "> “Jack, these ‘Ticket’ numbers are all over the place — random letters, digits, no meaning.”\n",
    "\n",
    "**Jack (nodding):**  \n",
    "> “Yeah, and half the ‘Cabin’ values are missing too. Time to ditch the dead weight!” \n",
    "\n",
    "\n",
    "#### Why this is a good move:\n",
    "- **Ticket** is too messy (alphanumeric + no real pattern) \n",
    "- **Cabin** has too many missing values (~77%) and is hard to impute \n",
    "- Keeping them may **confuse the model** and lead to overfitting or noise\n",
    "---"
   ]
  },
  {
   "cell_type": "markdown",
   "metadata": {},
   "source": [
    "> #### Jack just leaned over the passenger manifest and whispered to Rose:\n",
    "\n",
    "> *“People’s titles might reveal their social class… Captain, Lady, Master — they mean something, right?”*\n",
    "\n",
    "So now, we’re looking for **hidden power** inside the `Name` column — extracting **titles** like `Mr`, `Miss`, `Mrs`, `Master`, `Dr`, etc. "
   ]
  },
  {
   "cell_type": "code",
   "execution_count": 50,
   "metadata": {
    "execution": {
     "iopub.execute_input": "2025-04-12T12:10:11.800550Z",
     "iopub.status.busy": "2025-04-12T12:10:11.800174Z",
     "iopub.status.idle": "2025-04-12T12:10:11.845283Z",
     "shell.execute_reply": "2025-04-12T12:10:11.844359Z",
     "shell.execute_reply.started": "2025-04-12T12:10:11.800526Z"
    },
    "trusted": true
   },
   "outputs": [
    {
     "data": {
      "text/html": [
       "<div>\n",
       "<style scoped>\n",
       "    .dataframe tbody tr th:only-of-type {\n",
       "        vertical-align: middle;\n",
       "    }\n",
       "\n",
       "    .dataframe tbody tr th {\n",
       "        vertical-align: top;\n",
       "    }\n",
       "\n",
       "    .dataframe thead th {\n",
       "        text-align: right;\n",
       "    }\n",
       "</style>\n",
       "<table border=\"1\" class=\"dataframe\">\n",
       "  <thead>\n",
       "    <tr style=\"text-align: right;\">\n",
       "      <th>Sex</th>\n",
       "      <th>female</th>\n",
       "      <th>male</th>\n",
       "    </tr>\n",
       "    <tr>\n",
       "      <th>Title</th>\n",
       "      <th></th>\n",
       "      <th></th>\n",
       "    </tr>\n",
       "  </thead>\n",
       "  <tbody>\n",
       "    <tr>\n",
       "      <th>Capt</th>\n",
       "      <td>0</td>\n",
       "      <td>1</td>\n",
       "    </tr>\n",
       "    <tr>\n",
       "      <th>Col</th>\n",
       "      <td>0</td>\n",
       "      <td>2</td>\n",
       "    </tr>\n",
       "    <tr>\n",
       "      <th>Countess</th>\n",
       "      <td>1</td>\n",
       "      <td>0</td>\n",
       "    </tr>\n",
       "    <tr>\n",
       "      <th>Don</th>\n",
       "      <td>0</td>\n",
       "      <td>1</td>\n",
       "    </tr>\n",
       "    <tr>\n",
       "      <th>Dr</th>\n",
       "      <td>1</td>\n",
       "      <td>6</td>\n",
       "    </tr>\n",
       "    <tr>\n",
       "      <th>Jonkheer</th>\n",
       "      <td>0</td>\n",
       "      <td>1</td>\n",
       "    </tr>\n",
       "    <tr>\n",
       "      <th>Lady</th>\n",
       "      <td>1</td>\n",
       "      <td>0</td>\n",
       "    </tr>\n",
       "    <tr>\n",
       "      <th>Major</th>\n",
       "      <td>0</td>\n",
       "      <td>2</td>\n",
       "    </tr>\n",
       "    <tr>\n",
       "      <th>Master</th>\n",
       "      <td>0</td>\n",
       "      <td>40</td>\n",
       "    </tr>\n",
       "    <tr>\n",
       "      <th>Miss</th>\n",
       "      <td>182</td>\n",
       "      <td>0</td>\n",
       "    </tr>\n",
       "    <tr>\n",
       "      <th>Mlle</th>\n",
       "      <td>2</td>\n",
       "      <td>0</td>\n",
       "    </tr>\n",
       "    <tr>\n",
       "      <th>Mme</th>\n",
       "      <td>1</td>\n",
       "      <td>0</td>\n",
       "    </tr>\n",
       "    <tr>\n",
       "      <th>Mr</th>\n",
       "      <td>0</td>\n",
       "      <td>517</td>\n",
       "    </tr>\n",
       "    <tr>\n",
       "      <th>Mrs</th>\n",
       "      <td>125</td>\n",
       "      <td>0</td>\n",
       "    </tr>\n",
       "    <tr>\n",
       "      <th>Ms</th>\n",
       "      <td>1</td>\n",
       "      <td>0</td>\n",
       "    </tr>\n",
       "    <tr>\n",
       "      <th>Rev</th>\n",
       "      <td>0</td>\n",
       "      <td>6</td>\n",
       "    </tr>\n",
       "    <tr>\n",
       "      <th>Sir</th>\n",
       "      <td>0</td>\n",
       "      <td>1</td>\n",
       "    </tr>\n",
       "  </tbody>\n",
       "</table>\n",
       "</div>"
      ],
      "text/plain": [
       "Sex       female  male\n",
       "Title                 \n",
       "Capt           0     1\n",
       "Col            0     2\n",
       "Countess       1     0\n",
       "Don            0     1\n",
       "Dr             1     6\n",
       "Jonkheer       0     1\n",
       "Lady           1     0\n",
       "Major          0     2\n",
       "Master         0    40\n",
       "Miss         182     0\n",
       "Mlle           2     0\n",
       "Mme            1     0\n",
       "Mr             0   517\n",
       "Mrs          125     0\n",
       "Ms             1     0\n",
       "Rev            0     6\n",
       "Sir            0     1"
      ]
     },
     "execution_count": 50,
     "metadata": {},
     "output_type": "execute_result"
    }
   ],
   "source": [
    "# Extract Title from Name (e.g., Mr., Miss., Dr.)\n",
    "for dataset in combine:\n",
    "    dataset['Title'] = dataset.Name.str.extract(' ([A-Za-z]+)\\.', expand=False)\n",
    "\n",
    "# Show how titles are distributed by gender\n",
    "pd.crosstab(train['Title'], train['Sex'])"
   ]
  },
  {
   "cell_type": "markdown",
   "metadata": {},
   "source": [
    "#### Jack & Rose Observations:\n",
    "\n",
    "**Rose (pointing at the table):**  \n",
    "> “So many *Misses* and *Mrs*, but look — there’s a *Countess* too!” \n",
    "\n",
    "**Jack (smirking):**  \n",
    "> “And don’t forget *Master*, that’s usually for little boys. This could tell us who had more chances of survival…”\n",
    "\n",
    "\n",
    "#### Why this matters:\n",
    "- **Title** is a mini gold mine for feature engineering:\n",
    "  - `Master` = young boys   \n",
    "  - `Mrs`, `Miss`, `Mme`, `Mlle` = women   \n",
    "  - `Dr`, `Rev`, `Col`, `Major` = professionals or officers  \n",
    "  - `Rare` titles (like `Lady`, `Countess`, etc.) might imply **wealth or nobility**\n",
    "- It helps to **group people logically** based on respect, age, or role"
   ]
  },
  {
   "cell_type": "markdown",
   "metadata": {},
   "source": [
    "\n",
    ">#### Jack and Rose are polishing the \"titles\" to make them machine-friendly — grouping rare and foreign titles together, simplifying messy labels, and preparing them for the model like it’s a black-tie gala! "
   ]
  },
  {
   "cell_type": "code",
   "execution_count": 51,
   "metadata": {
    "execution": {
     "iopub.execute_input": "2025-04-12T12:10:11.846673Z",
     "iopub.status.busy": "2025-04-12T12:10:11.846366Z",
     "iopub.status.idle": "2025-04-12T12:10:11.870301Z",
     "shell.execute_reply": "2025-04-12T12:10:11.869348Z",
     "shell.execute_reply.started": "2025-04-12T12:10:11.846652Z"
    },
    "trusted": true
   },
   "outputs": [
    {
     "data": {
      "text/html": [
       "<div>\n",
       "<style scoped>\n",
       "    .dataframe tbody tr th:only-of-type {\n",
       "        vertical-align: middle;\n",
       "    }\n",
       "\n",
       "    .dataframe tbody tr th {\n",
       "        vertical-align: top;\n",
       "    }\n",
       "\n",
       "    .dataframe thead th {\n",
       "        text-align: right;\n",
       "    }\n",
       "</style>\n",
       "<table border=\"1\" class=\"dataframe\">\n",
       "  <thead>\n",
       "    <tr style=\"text-align: right;\">\n",
       "      <th></th>\n",
       "      <th>Title</th>\n",
       "      <th>Survived</th>\n",
       "    </tr>\n",
       "  </thead>\n",
       "  <tbody>\n",
       "    <tr>\n",
       "      <th>0</th>\n",
       "      <td>Master</td>\n",
       "      <td>0.575000</td>\n",
       "    </tr>\n",
       "    <tr>\n",
       "      <th>1</th>\n",
       "      <td>Miss</td>\n",
       "      <td>0.702703</td>\n",
       "    </tr>\n",
       "    <tr>\n",
       "      <th>2</th>\n",
       "      <td>Mr</td>\n",
       "      <td>0.156673</td>\n",
       "    </tr>\n",
       "    <tr>\n",
       "      <th>3</th>\n",
       "      <td>Mrs</td>\n",
       "      <td>0.793651</td>\n",
       "    </tr>\n",
       "    <tr>\n",
       "      <th>4</th>\n",
       "      <td>Rare</td>\n",
       "      <td>0.347826</td>\n",
       "    </tr>\n",
       "  </tbody>\n",
       "</table>\n",
       "</div>"
      ],
      "text/plain": [
       "    Title  Survived\n",
       "0  Master  0.575000\n",
       "1    Miss  0.702703\n",
       "2      Mr  0.156673\n",
       "3     Mrs  0.793651\n",
       "4    Rare  0.347826"
      ]
     },
     "execution_count": 51,
     "metadata": {},
     "output_type": "execute_result"
    }
   ],
   "source": [
    "#  Group rare or formal titles into 'Rare', and simplify others\n",
    "for dataset in combine:\n",
    "    dataset['Title'] = dataset['Title'].replace(['Lady', 'Countess', 'Capt', 'Col',\n",
    "                                                  'Don', 'Dr', 'Major', 'Rev', 'Sir',\n",
    "                                                  'Jonkheer', 'Dona'], 'Rare')\n",
    "\n",
    "    dataset['Title'] = dataset['Title'].replace('Mlle', 'Miss')\n",
    "    dataset['Title'] = dataset['Title'].replace('Ms', 'Miss')\n",
    "    dataset['Title'] = dataset['Title'].replace('Mme', 'Mrs')\n",
    "\n",
    "# Look at survival rate by Title\n",
    "train[['Title', 'Survived']].groupby(['Title'], as_index=False).mean()"
   ]
  },
  {
   "cell_type": "markdown",
   "metadata": {},
   "source": [
    "#####  Jack & Rose Insight Table:\n",
    "\n",
    "| Title   | Survival Rate |\n",
    "|---------|----------------|\n",
    "| Mr      | ~16%          |\n",
    "| Miss    | ~70%         |\n",
    "| Mrs     | ~79%        |\n",
    "| Master  | ~57%          |\n",
    "| Rare    | ~47%          |\n",
    "\n",
    "\n",
    "#####  Rose:  \n",
    "> “You see, Jack? *Mrs* and *Miss* had high chances. Maybe the crew helped them board lifeboats first.”\n",
    "\n",
    "##### Jack:  \n",
    "> “Yeah… while *Mr* and *Col* were left to handle the chaos. At least now the model can use this info wisely.”\n",
    "-----"
   ]
  },
  {
   "cell_type": "markdown",
   "metadata": {},
   "source": [
    "> #### Jack and Rose are now turning **titles into numbers** — because machine learning models don’t understand “Miss” or “Mr”, but they *do* understand `1`, `2`, `3`... "
   ]
  },
  {
   "cell_type": "code",
   "execution_count": 52,
   "metadata": {
    "execution": {
     "iopub.execute_input": "2025-04-12T12:10:11.871985Z",
     "iopub.status.busy": "2025-04-12T12:10:11.871453Z",
     "iopub.status.idle": "2025-04-12T12:10:11.888712Z",
     "shell.execute_reply": "2025-04-12T12:10:11.887502Z",
     "shell.execute_reply.started": "2025-04-12T12:10:11.871960Z"
    },
    "trusted": true
   },
   "outputs": [
    {
     "data": {
      "text/html": [
       "<div>\n",
       "<style scoped>\n",
       "    .dataframe tbody tr th:only-of-type {\n",
       "        vertical-align: middle;\n",
       "    }\n",
       "\n",
       "    .dataframe tbody tr th {\n",
       "        vertical-align: top;\n",
       "    }\n",
       "\n",
       "    .dataframe thead th {\n",
       "        text-align: right;\n",
       "    }\n",
       "</style>\n",
       "<table border=\"1\" class=\"dataframe\">\n",
       "  <thead>\n",
       "    <tr style=\"text-align: right;\">\n",
       "      <th></th>\n",
       "      <th>PassengerId</th>\n",
       "      <th>Survived</th>\n",
       "      <th>Pclass</th>\n",
       "      <th>Name</th>\n",
       "      <th>Sex</th>\n",
       "      <th>Age</th>\n",
       "      <th>SibSp</th>\n",
       "      <th>Parch</th>\n",
       "      <th>Fare</th>\n",
       "      <th>Embarked</th>\n",
       "      <th>Title</th>\n",
       "    </tr>\n",
       "  </thead>\n",
       "  <tbody>\n",
       "    <tr>\n",
       "      <th>0</th>\n",
       "      <td>1</td>\n",
       "      <td>0</td>\n",
       "      <td>3</td>\n",
       "      <td>Braund, Mr. Owen Harris</td>\n",
       "      <td>male</td>\n",
       "      <td>22.0</td>\n",
       "      <td>1</td>\n",
       "      <td>0</td>\n",
       "      <td>7.2500</td>\n",
       "      <td>S</td>\n",
       "      <td>1</td>\n",
       "    </tr>\n",
       "    <tr>\n",
       "      <th>1</th>\n",
       "      <td>2</td>\n",
       "      <td>1</td>\n",
       "      <td>1</td>\n",
       "      <td>Cumings, Mrs. John Bradley (Florence Briggs Th...</td>\n",
       "      <td>female</td>\n",
       "      <td>38.0</td>\n",
       "      <td>1</td>\n",
       "      <td>0</td>\n",
       "      <td>71.2833</td>\n",
       "      <td>C</td>\n",
       "      <td>3</td>\n",
       "    </tr>\n",
       "    <tr>\n",
       "      <th>2</th>\n",
       "      <td>3</td>\n",
       "      <td>1</td>\n",
       "      <td>3</td>\n",
       "      <td>Heikkinen, Miss. Laina</td>\n",
       "      <td>female</td>\n",
       "      <td>26.0</td>\n",
       "      <td>0</td>\n",
       "      <td>0</td>\n",
       "      <td>7.9250</td>\n",
       "      <td>S</td>\n",
       "      <td>2</td>\n",
       "    </tr>\n",
       "    <tr>\n",
       "      <th>3</th>\n",
       "      <td>4</td>\n",
       "      <td>1</td>\n",
       "      <td>1</td>\n",
       "      <td>Futrelle, Mrs. Jacques Heath (Lily May Peel)</td>\n",
       "      <td>female</td>\n",
       "      <td>35.0</td>\n",
       "      <td>1</td>\n",
       "      <td>0</td>\n",
       "      <td>53.1000</td>\n",
       "      <td>S</td>\n",
       "      <td>3</td>\n",
       "    </tr>\n",
       "    <tr>\n",
       "      <th>4</th>\n",
       "      <td>5</td>\n",
       "      <td>0</td>\n",
       "      <td>3</td>\n",
       "      <td>Allen, Mr. William Henry</td>\n",
       "      <td>male</td>\n",
       "      <td>35.0</td>\n",
       "      <td>0</td>\n",
       "      <td>0</td>\n",
       "      <td>8.0500</td>\n",
       "      <td>S</td>\n",
       "      <td>1</td>\n",
       "    </tr>\n",
       "  </tbody>\n",
       "</table>\n",
       "</div>"
      ],
      "text/plain": [
       "   PassengerId  Survived  Pclass  \\\n",
       "0            1         0       3   \n",
       "1            2         1       1   \n",
       "2            3         1       3   \n",
       "3            4         1       1   \n",
       "4            5         0       3   \n",
       "\n",
       "                                                Name     Sex   Age  SibSp  \\\n",
       "0                            Braund, Mr. Owen Harris    male  22.0      1   \n",
       "1  Cumings, Mrs. John Bradley (Florence Briggs Th...  female  38.0      1   \n",
       "2                             Heikkinen, Miss. Laina  female  26.0      0   \n",
       "3       Futrelle, Mrs. Jacques Heath (Lily May Peel)  female  35.0      1   \n",
       "4                           Allen, Mr. William Henry    male  35.0      0   \n",
       "\n",
       "   Parch     Fare Embarked  Title  \n",
       "0      0   7.2500        S      1  \n",
       "1      0  71.2833        C      3  \n",
       "2      0   7.9250        S      2  \n",
       "3      0  53.1000        S      3  \n",
       "4      0   8.0500        S      1  "
      ]
     },
     "execution_count": 52,
     "metadata": {},
     "output_type": "execute_result"
    }
   ],
   "source": [
    "# Map titles to numbers for the ML model\n",
    "title_mapping = {\"Mr\": 1, \"Miss\": 2, \"Mrs\": 3, \"Master\": 4, \"Rare\": 5}\n",
    "\n",
    "for dataset in combine:\n",
    "    dataset['Title'] = dataset['Title'].map(title_mapping)\n",
    "    dataset['Title'] = dataset['Title'].fillna(0)  # If somehow title is still missing\n",
    "\n",
    "train.head()"
   ]
  },
  {
   "cell_type": "markdown",
   "metadata": {},
   "source": [
    "###  Jack & Rose Roleplay:\n",
    "\n",
    "**Rose (raising an eyebrow):**  \n",
    "> “So now I’m just a ‘2’? Hmph.”\n",
    "\n",
    "**Jack (grinning):**  \n",
    "> “Better than me — I’m a ‘1’! But hey, at least the model can tell us apart now!”\n",
    "\n",
    "---\n",
    "\n",
    "###  Why This Mapping Matters:\n",
    "- Converting text to numbers makes the data **model-ready**\n",
    "- Helps ML algorithms like Logistic Regression, Decision Trees, etc., to **find patterns faster**\n",
    "- Avoids errors when feeding strings into models expecting numeric input"
   ]
  },
  {
   "cell_type": "markdown",
   "metadata": {},
   "source": [
    "\n",
    "> #### Jack and Rose just did a Marie Kondo on the dataset — tossing out the **Name** and **PassengerId** columns because they *no longer spark joy* (or add predictive power)."
   ]
  },
  {
   "cell_type": "code",
   "execution_count": 53,
   "metadata": {
    "execution": {
     "iopub.execute_input": "2025-04-12T12:10:11.891467Z",
     "iopub.status.busy": "2025-04-12T12:10:11.891093Z",
     "iopub.status.idle": "2025-04-12T12:10:11.910822Z",
     "shell.execute_reply": "2025-04-12T12:10:11.909597Z",
     "shell.execute_reply.started": "2025-04-12T12:10:11.891412Z"
    },
    "trusted": true
   },
   "outputs": [
    {
     "data": {
      "text/plain": [
       "((891, 9), (418, 9))"
      ]
     },
     "execution_count": 53,
     "metadata": {},
     "output_type": "execute_result"
    }
   ],
   "source": [
    "# Drop Name and PassengerId — we've already extracted Title\n",
    "train = train.drop(['Name', 'PassengerId'], axis=1)\n",
    "test = test.drop(['Name'], axis=1)\n",
    "\n",
    "# Re-combine to keep data consistent\n",
    "combine = [train, test]\n",
    "\n",
    "# Check updated dataset shapes\n",
    "train.shape, test.shape"
   ]
  },
  {
   "cell_type": "markdown",
   "metadata": {},
   "source": [
    "#### Jack & Rose Chatter:\n",
    "\n",
    "**Rose:**  \n",
    "> “So we’re deleting my full name? ‘Rose DeWitt Bukater’ was iconic!”\n",
    "\n",
    "**Jack:**  \n",
    "> “Yeah, but your *title* says enough. We kept the class, dropped the fluff.” \n",
    "\n",
    "#### Why This Makes Sense:\n",
    "-  `Name` is no longer useful — we’ve already extracted `Title` from it\n",
    "-  `PassengerId` is just an index — it doesn’t affect survival\n",
    "-  Helps reduce **dimensionality** (fewer columns → cleaner model)"
   ]
  },
  {
   "cell_type": "markdown",
   "metadata": {},
   "source": [
    "\n",
    "> #### Jack just coded Rose as a **1** and himself as a **0** — not in romance, but in the dataset! \n",
    "\n",
    "We're now **numerically encoding** the `Sex` column so our machine learning models can understand gender as data, not text."
   ]
  },
  {
   "cell_type": "code",
   "execution_count": 54,
   "metadata": {
    "execution": {
     "iopub.execute_input": "2025-04-12T12:10:11.912798Z",
     "iopub.status.busy": "2025-04-12T12:10:11.911937Z",
     "iopub.status.idle": "2025-04-12T12:10:11.942174Z",
     "shell.execute_reply": "2025-04-12T12:10:11.941117Z",
     "shell.execute_reply.started": "2025-04-12T12:10:11.912765Z"
    },
    "trusted": true
   },
   "outputs": [
    {
     "data": {
      "text/html": [
       "<div>\n",
       "<style scoped>\n",
       "    .dataframe tbody tr th:only-of-type {\n",
       "        vertical-align: middle;\n",
       "    }\n",
       "\n",
       "    .dataframe tbody tr th {\n",
       "        vertical-align: top;\n",
       "    }\n",
       "\n",
       "    .dataframe thead th {\n",
       "        text-align: right;\n",
       "    }\n",
       "</style>\n",
       "<table border=\"1\" class=\"dataframe\">\n",
       "  <thead>\n",
       "    <tr style=\"text-align: right;\">\n",
       "      <th></th>\n",
       "      <th>Survived</th>\n",
       "      <th>Pclass</th>\n",
       "      <th>Sex</th>\n",
       "      <th>Age</th>\n",
       "      <th>SibSp</th>\n",
       "      <th>Parch</th>\n",
       "      <th>Fare</th>\n",
       "      <th>Embarked</th>\n",
       "      <th>Title</th>\n",
       "    </tr>\n",
       "  </thead>\n",
       "  <tbody>\n",
       "    <tr>\n",
       "      <th>0</th>\n",
       "      <td>0</td>\n",
       "      <td>3</td>\n",
       "      <td>0</td>\n",
       "      <td>22.0</td>\n",
       "      <td>1</td>\n",
       "      <td>0</td>\n",
       "      <td>7.2500</td>\n",
       "      <td>S</td>\n",
       "      <td>1</td>\n",
       "    </tr>\n",
       "    <tr>\n",
       "      <th>1</th>\n",
       "      <td>1</td>\n",
       "      <td>1</td>\n",
       "      <td>1</td>\n",
       "      <td>38.0</td>\n",
       "      <td>1</td>\n",
       "      <td>0</td>\n",
       "      <td>71.2833</td>\n",
       "      <td>C</td>\n",
       "      <td>3</td>\n",
       "    </tr>\n",
       "    <tr>\n",
       "      <th>2</th>\n",
       "      <td>1</td>\n",
       "      <td>3</td>\n",
       "      <td>1</td>\n",
       "      <td>26.0</td>\n",
       "      <td>0</td>\n",
       "      <td>0</td>\n",
       "      <td>7.9250</td>\n",
       "      <td>S</td>\n",
       "      <td>2</td>\n",
       "    </tr>\n",
       "    <tr>\n",
       "      <th>3</th>\n",
       "      <td>1</td>\n",
       "      <td>1</td>\n",
       "      <td>1</td>\n",
       "      <td>35.0</td>\n",
       "      <td>1</td>\n",
       "      <td>0</td>\n",
       "      <td>53.1000</td>\n",
       "      <td>S</td>\n",
       "      <td>3</td>\n",
       "    </tr>\n",
       "    <tr>\n",
       "      <th>4</th>\n",
       "      <td>0</td>\n",
       "      <td>3</td>\n",
       "      <td>0</td>\n",
       "      <td>35.0</td>\n",
       "      <td>0</td>\n",
       "      <td>0</td>\n",
       "      <td>8.0500</td>\n",
       "      <td>S</td>\n",
       "      <td>1</td>\n",
       "    </tr>\n",
       "  </tbody>\n",
       "</table>\n",
       "</div>"
      ],
      "text/plain": [
       "   Survived  Pclass  Sex   Age  SibSp  Parch     Fare Embarked  Title\n",
       "0         0       3    0  22.0      1      0   7.2500        S      1\n",
       "1         1       1    1  38.0      1      0  71.2833        C      3\n",
       "2         1       3    1  26.0      0      0   7.9250        S      2\n",
       "3         1       1    1  35.0      1      0  53.1000        S      3\n",
       "4         0       3    0  35.0      0      0   8.0500        S      1"
      ]
     },
     "execution_count": 54,
     "metadata": {},
     "output_type": "execute_result"
    }
   ],
   "source": [
    "# Encode 'female' as 1, 'male' as 0, and drop NaN values  \n",
    "for dataset in combine:  \n",
    "    dataset['Sex'] = dataset['Sex'].map({'female': 1, 'male': 0})  \n",
    "    dataset.dropna(subset=['Sex'], inplace=True)  # Drop rows where 'Sex' is NaN  \n",
    "    dataset['Sex'] = dataset['Sex'].astype(int)  \n",
    "\n",
    "# Preview changes  \n",
    "train.head()  "
   ]
  },
  {
   "cell_type": "markdown",
   "metadata": {},
   "source": [
    "#### Jack & Rose Commentary:\n",
    "\n",
    "**Rose (laughing):**  \n",
    "> “So I’m a `1`, and you’re a `0`? That’s... a *bit* rude.”\n",
    "\n",
    "**Jack:**  \n",
    "> “Hey, don’t take it personally! You literally had better odds of survival!” \n",
    "\n",
    "---\n",
    "\n",
    "#### Why This Helps:\n",
    "- ML models **can’t process strings** directly — they need numbers\n",
    "- Gender turned out to be a **strong predictor** of survival on the Titanic:\n",
    "  - `female` survival rate: ~74% \n",
    "  - `male` survival rate: ~19% "
   ]
  },
  {
   "cell_type": "code",
   "execution_count": 55,
   "metadata": {
    "execution": {
     "iopub.execute_input": "2025-04-12T12:10:11.943727Z",
     "iopub.status.busy": "2025-04-12T12:10:11.943377Z",
     "iopub.status.idle": "2025-04-12T12:10:11.964919Z",
     "shell.execute_reply": "2025-04-12T12:10:11.963696Z",
     "shell.execute_reply.started": "2025-04-12T12:10:11.943700Z"
    },
    "trusted": true
   },
   "outputs": [
    {
     "data": {
      "text/html": [
       "<div>\n",
       "<style scoped>\n",
       "    .dataframe tbody tr th:only-of-type {\n",
       "        vertical-align: middle;\n",
       "    }\n",
       "\n",
       "    .dataframe tbody tr th {\n",
       "        vertical-align: top;\n",
       "    }\n",
       "\n",
       "    .dataframe thead th {\n",
       "        text-align: right;\n",
       "    }\n",
       "</style>\n",
       "<table border=\"1\" class=\"dataframe\">\n",
       "  <thead>\n",
       "    <tr style=\"text-align: right;\">\n",
       "      <th></th>\n",
       "      <th>Survived</th>\n",
       "      <th>Pclass</th>\n",
       "      <th>Sex</th>\n",
       "      <th>Age</th>\n",
       "      <th>SibSp</th>\n",
       "      <th>Parch</th>\n",
       "      <th>Fare</th>\n",
       "      <th>Embarked</th>\n",
       "      <th>Title</th>\n",
       "    </tr>\n",
       "  </thead>\n",
       "  <tbody>\n",
       "    <tr>\n",
       "      <th>0</th>\n",
       "      <td>0</td>\n",
       "      <td>3</td>\n",
       "      <td>0</td>\n",
       "      <td>22.0</td>\n",
       "      <td>1</td>\n",
       "      <td>0</td>\n",
       "      <td>7.2500</td>\n",
       "      <td>1</td>\n",
       "      <td>1</td>\n",
       "    </tr>\n",
       "    <tr>\n",
       "      <th>1</th>\n",
       "      <td>1</td>\n",
       "      <td>1</td>\n",
       "      <td>1</td>\n",
       "      <td>38.0</td>\n",
       "      <td>1</td>\n",
       "      <td>0</td>\n",
       "      <td>71.2833</td>\n",
       "      <td>2</td>\n",
       "      <td>3</td>\n",
       "    </tr>\n",
       "    <tr>\n",
       "      <th>2</th>\n",
       "      <td>1</td>\n",
       "      <td>3</td>\n",
       "      <td>1</td>\n",
       "      <td>26.0</td>\n",
       "      <td>0</td>\n",
       "      <td>0</td>\n",
       "      <td>7.9250</td>\n",
       "      <td>1</td>\n",
       "      <td>2</td>\n",
       "    </tr>\n",
       "    <tr>\n",
       "      <th>3</th>\n",
       "      <td>1</td>\n",
       "      <td>1</td>\n",
       "      <td>1</td>\n",
       "      <td>35.0</td>\n",
       "      <td>1</td>\n",
       "      <td>0</td>\n",
       "      <td>53.1000</td>\n",
       "      <td>1</td>\n",
       "      <td>3</td>\n",
       "    </tr>\n",
       "    <tr>\n",
       "      <th>4</th>\n",
       "      <td>0</td>\n",
       "      <td>3</td>\n",
       "      <td>0</td>\n",
       "      <td>35.0</td>\n",
       "      <td>0</td>\n",
       "      <td>0</td>\n",
       "      <td>8.0500</td>\n",
       "      <td>1</td>\n",
       "      <td>1</td>\n",
       "    </tr>\n",
       "  </tbody>\n",
       "</table>\n",
       "</div>"
      ],
      "text/plain": [
       "   Survived  Pclass  Sex   Age  SibSp  Parch     Fare  Embarked  Title\n",
       "0         0       3    0  22.0      1      0   7.2500         1      1\n",
       "1         1       1    1  38.0      1      0  71.2833         2      3\n",
       "2         1       3    1  26.0      0      0   7.9250         1      2\n",
       "3         1       1    1  35.0      1      0  53.1000         1      3\n",
       "4         0       3    0  35.0      0      0   8.0500         1      1"
      ]
     },
     "execution_count": 55,
     "metadata": {},
     "output_type": "execute_result"
    }
   ],
   "source": [
    "#map each Embarked value to a numerical value\n",
    "embarked_mapping = {\"S\": 1, \"C\": 2, \"Q\": 3}\n",
    "train['Embarked'] = train['Embarked'].map(embarked_mapping)\n",
    "test['Embarked'] = test['Embarked'].map(embarked_mapping)\n",
    "\n",
    "train.head()"
   ]
  },
  {
   "cell_type": "markdown",
   "metadata": {},
   "source": [
    "## Choosing the Best Model\n",
    "\n",
    " >#### Jack just picked his weapons for prediction — separating features from the label (Survived) like slicing a lifeboat from the ship!"
   ]
  },
  {
   "cell_type": "code",
   "execution_count": 56,
   "metadata": {
    "execution": {
     "iopub.execute_input": "2025-04-12T12:10:11.966242Z",
     "iopub.status.busy": "2025-04-12T12:10:11.966003Z",
     "iopub.status.idle": "2025-04-12T12:10:11.988732Z",
     "shell.execute_reply": "2025-04-12T12:10:11.987689Z",
     "shell.execute_reply.started": "2025-04-12T12:10:11.966224Z"
    },
    "trusted": true
   },
   "outputs": [
    {
     "data": {
      "text/plain": [
       "((891, 8), (891,), (418, 8))"
      ]
     },
     "execution_count": 56,
     "metadata": {},
     "output_type": "execute_result"
    }
   ],
   "source": [
    "# Separate training features and labels\n",
    "X_train = train.drop(\"Survived\", axis=1)\n",
    "Y_train = train[\"Survived\"]\n",
    "\n",
    "# Prepare test set for predictions\n",
    "X_test = test.drop(\"PassengerId\", axis=1).copy()\n",
    "\n",
    "# Check shapes\n",
    "X_train.shape, Y_train.shape, X_test.shape"
   ]
  },
  {
   "cell_type": "markdown",
   "metadata": {},
   "source": [
    "##### Jack & Rose Commentary:\n",
    "\n",
    "**Rose:**  \n",
    "> “So this is where I become the teacher’s pet — I’m in `Y_train`, the target! ”\n",
    "\n",
    "**Jack:**  \n",
    "> “And I’m with the rest of the features in `X_train`, doing all the heavy lifting!” \n",
    "\n",
    "\n",
    "##### What’s Happening:\n",
    "- `X_train`: all training features (like Age, Sex, Pclass, etc.)\n",
    "- `Y_train`: the survival label (0 or 1)\n",
    "- `X_test`: testing data without \"PassengerId\" (we’ll need it later for submission)"
   ]
  },
  {
   "cell_type": "markdown",
   "metadata": {},
   "source": [
    "> #### Jack the ML Captain just launched the first model — Logistic Regression — and the Titanic prediction voyage has officially begun! "
   ]
  },
  {
   "cell_type": "code",
   "execution_count": 57,
   "metadata": {
    "execution": {
     "iopub.execute_input": "2025-04-12T12:10:21.242375Z",
     "iopub.status.busy": "2025-04-12T12:10:21.242007Z",
     "iopub.status.idle": "2025-04-12T12:10:21.675949Z",
     "shell.execute_reply": "2025-04-12T12:10:21.674275Z",
     "shell.execute_reply.started": "2025-04-12T12:10:21.242350Z"
    },
    "trusted": true
   },
   "outputs": [
    {
     "data": {
      "text/plain": [
       "81.71"
      ]
     },
     "execution_count": 57,
     "metadata": {},
     "output_type": "execute_result"
    }
   ],
   "source": [
    "# Train Logistic Regression\n",
    "logreg = LogisticRegression()\n",
    "logreg.fit(X_train, Y_train)\n",
    "\n",
    "# Predict test set survival\n",
    "Y_pred = logreg.predict(X_test)\n",
    "\n",
    "# Check training accuracy\n",
    "acc_log = round(logreg.score(X_train, Y_train) * 100, 2)\n",
    "acc_log"
   ]
  },
  {
   "cell_type": "markdown",
   "metadata": {},
   "source": [
    "##### Jack & Rose Moment:\n",
    "\n",
    "**Jack:**  \n",
    "> “I may be from 3rd class, but my predictions are first-class now. Accuracy: `{}%`!”\n",
    "\n",
    "**Rose:**  \n",
    "> “And they said love wouldn’t survive... but your logistic model sure did.” \n",
    "\n",
    "##### What Logistic Regression Does:\n",
    "- It's a **binary classification algorithm** → perfect for predicting `Survived (0 or 1)`\n",
    "- It outputs **probabilities**, then converts them into classes based on a threshold (usually 0.5)\n",
    "- Great for **interpreting feature importance** later on"
   ]
  },
  {
   "cell_type": "markdown",
   "metadata": {},
   "source": [
    ">#### Jack just looked at the feature importance report from the Logistic Regression ship — trying to figure out what really made a difference in surviving the Titanic 🚢 or sinking with it. And wow, some features really tipped the lifeboat."
   ]
  },
  {
   "cell_type": "code",
   "execution_count": 58,
   "metadata": {
    "execution": {
     "iopub.execute_input": "2025-04-12T12:10:21.762516Z",
     "iopub.status.busy": "2025-04-12T12:10:21.762162Z",
     "iopub.status.idle": "2025-04-12T12:10:21.781327Z",
     "shell.execute_reply": "2025-04-12T12:10:21.780563Z",
     "shell.execute_reply.started": "2025-04-12T12:10:21.762492Z"
    },
    "trusted": true
   },
   "outputs": [
    {
     "data": {
      "text/html": [
       "<div>\n",
       "<style scoped>\n",
       "    .dataframe tbody tr th:only-of-type {\n",
       "        vertical-align: middle;\n",
       "    }\n",
       "\n",
       "    .dataframe tbody tr th {\n",
       "        vertical-align: top;\n",
       "    }\n",
       "\n",
       "    .dataframe thead th {\n",
       "        text-align: right;\n",
       "    }\n",
       "</style>\n",
       "<table border=\"1\" class=\"dataframe\">\n",
       "  <thead>\n",
       "    <tr style=\"text-align: right;\">\n",
       "      <th></th>\n",
       "      <th>Feature</th>\n",
       "      <th>Correlation</th>\n",
       "    </tr>\n",
       "  </thead>\n",
       "  <tbody>\n",
       "    <tr>\n",
       "      <th>1</th>\n",
       "      <td>Sex</td>\n",
       "      <td>2.206249</td>\n",
       "    </tr>\n",
       "    <tr>\n",
       "      <th>7</th>\n",
       "      <td>Title</td>\n",
       "      <td>0.498898</td>\n",
       "    </tr>\n",
       "    <tr>\n",
       "      <th>6</th>\n",
       "      <td>Embarked</td>\n",
       "      <td>0.219667</td>\n",
       "    </tr>\n",
       "    <tr>\n",
       "      <th>5</th>\n",
       "      <td>Fare</td>\n",
       "      <td>0.003877</td>\n",
       "    </tr>\n",
       "    <tr>\n",
       "      <th>2</th>\n",
       "      <td>Age</td>\n",
       "      <td>-0.038402</td>\n",
       "    </tr>\n",
       "    <tr>\n",
       "      <th>4</th>\n",
       "      <td>Parch</td>\n",
       "      <td>-0.192888</td>\n",
       "    </tr>\n",
       "    <tr>\n",
       "      <th>3</th>\n",
       "      <td>SibSp</td>\n",
       "      <td>-0.415730</td>\n",
       "    </tr>\n",
       "    <tr>\n",
       "      <th>0</th>\n",
       "      <td>Pclass</td>\n",
       "      <td>-0.981609</td>\n",
       "    </tr>\n",
       "  </tbody>\n",
       "</table>\n",
       "</div>"
      ],
      "text/plain": [
       "    Feature  Correlation\n",
       "1       Sex     2.206249\n",
       "7     Title     0.498898\n",
       "6  Embarked     0.219667\n",
       "5      Fare     0.003877\n",
       "2       Age    -0.038402\n",
       "4     Parch    -0.192888\n",
       "3     SibSp    -0.415730\n",
       "0    Pclass    -0.981609"
      ]
     },
     "execution_count": 58,
     "metadata": {},
     "output_type": "execute_result"
    }
   ],
   "source": [
    "# 🧾 Create a DataFrame to see feature impact\n",
    "coeff_df = pd.DataFrame(train.columns.delete(0))  # remove \"Survived\" column\n",
    "coeff_df.columns = ['Feature']\n",
    "coeff_df[\"Correlation\"] = pd.Series(logreg.coef_[0])  # model's weights\n",
    "\n",
    "# 🔍 Sort by most influential\n",
    "coeff_df.sort_values(by='Correlation', ascending=False)"
   ]
  },
  {
   "cell_type": "markdown",
   "metadata": {},
   "source": [
    "##### Jack & Rose Explain:\n",
    "\n",
    "**Rose:**  \n",
    "> \"Ohhh so you're saying being *female* or from a *higher class* helped you survive?\"\n",
    "\n",
    "**Jack:**  \n",
    "> \"Yup. And being a guy in third class… statistically not great for my health\"\n",
    "\n",
    "##### What This Means:\n",
    "- These **coefficients** show **how much** each feature pushes the prediction toward `Survived = 1` or `Survived = 0`\n",
    "- **Positive values** = more likely to survive  \n",
    "- **Negative values** = less likely to survive  \n",
    "- This is great for **interpreting** the model (one of Logistic Regression’s strengths)"
   ]
  },
  {
   "cell_type": "markdown",
   "metadata": {},
   "source": [
    ">#### Jack just summoned the sword of ML nobility — the Support Vector Machine (SVM) — slicing through the iceberg of data to predict survival with elegant decision boundaries!"
   ]
  },
  {
   "cell_type": "code",
   "execution_count": 59,
   "metadata": {
    "execution": {
     "iopub.execute_input": "2025-04-12T12:10:22.242124Z",
     "iopub.status.busy": "2025-04-12T12:10:22.241341Z",
     "iopub.status.idle": "2025-04-12T12:10:22.323767Z",
     "shell.execute_reply": "2025-04-12T12:10:22.322963Z",
     "shell.execute_reply.started": "2025-04-12T12:10:22.242095Z"
    },
    "trusted": true
   },
   "outputs": [
    {
     "data": {
      "text/plain": [
       "68.35"
      ]
     },
     "execution_count": 59,
     "metadata": {},
     "output_type": "execute_result"
    }
   ],
   "source": [
    "# 🤖 Train Support Vector Machine (SVC)\n",
    "svc = SVC()\n",
    "svc.fit(X_train, Y_train)\n",
    "\n",
    "# 🔮 Make predictions\n",
    "Y_pred = svc.predict(X_test)\n",
    "\n",
    "# 📊 Evaluate accuracy\n",
    "acc_svc = round(svc.score(X_train, Y_train) * 100, 2)\n",
    "acc_svc"
   ]
  },
  {
   "cell_type": "markdown",
   "metadata": {},
   "source": [
    "##### Jack & Rose Commentary:\n",
    "\n",
    "**Rose:**  \n",
    "> \"Is this the one with the *maximum margin of survival*, darling?\" \n",
    "\n",
    "**Jack:**  \n",
    "> \"Exactly, Rosie! This model is literally drawing the best possible line between life and death.\"\n",
    "\n",
    "##### What’s SVC Doing?\n",
    "- SVM finds the **hyperplane** (a fancy line in higher dimensions) that **maximally separates** survivors and non-survivors.\n",
    "- **Powerful for classification**, especially with **complex relationships**\n",
    "- Can use **kernels** (like radial basis function) for nonlinear patterns — we’re using the default here (RBF)."
   ]
  },
  {
   "cell_type": "markdown",
   "metadata": {},
   "source": [
    ">#### Jack just called upon the powerful magic of K-Nearest Neighbors (KNN) — where the future of survival is predicted by who you’re closest to in the feature space."
   ]
  },
  {
   "cell_type": "code",
   "execution_count": 60,
   "metadata": {
    "execution": {
     "iopub.execute_input": "2025-04-12T12:10:22.713464Z",
     "iopub.status.busy": "2025-04-12T12:10:22.713120Z",
     "iopub.status.idle": "2025-04-12T12:10:22.794785Z",
     "shell.execute_reply": "2025-04-12T12:10:22.793832Z",
     "shell.execute_reply.started": "2025-04-12T12:10:22.713409Z"
    },
    "trusted": true
   },
   "outputs": [
    {
     "data": {
      "text/plain": [
       "84.74"
      ]
     },
     "execution_count": 60,
     "metadata": {},
     "output_type": "execute_result"
    }
   ],
   "source": [
    "# Train K-Nearest Neighbors (KNN)\n",
    "knn = KNeighborsClassifier(n_neighbors=3)\n",
    "knn.fit(X_train, Y_train)\n",
    "\n",
    "# Predict survival for test set\n",
    "Y_pred = knn.predict(X_test)\n",
    "\n",
    "# Evaluate accuracy\n",
    "acc_knn = round(knn.score(X_train, Y_train) * 100, 2)\n",
    "acc_knn"
   ]
  },
  {
   "cell_type": "markdown",
   "metadata": {},
   "source": [
    "##### Jack & Rose Scene:\n",
    "\n",
    "**Rose:**  \n",
    "> “Wait, you’re telling me that we’re using the people around us to decide if we live or die? Kinda poetic, huh?” \n",
    "\n",
    "**Jack:**  \n",
    "> “That’s exactly right! In KNN, your fate depends on your **neighbors**. If they survived, so do you. You’re a product of your community, Rose.”\n",
    "\n",
    "##### What KNN Does:\n",
    "- **KNN** looks at the **K nearest data points** to predict an outcome.\n",
    "- It doesn’t need to create a model (no assumptions) — just **finds the closest examples** and takes the majority vote.\n",
    "- **Choosing the right K** is key — too small (overfitting) or too large (underfitting)."
   ]
  },
  {
   "cell_type": "markdown",
   "metadata": {},
   "source": [
    ">#### Jack just brought in the elegance of probabilistic predictions with Gaussian Naive Bayes (GNB) — where survival is predicted based on independent features and their Gaussian (normal) distribution! "
   ]
  },
  {
   "cell_type": "code",
   "execution_count": 61,
   "metadata": {
    "execution": {
     "iopub.execute_input": "2025-04-12T12:10:23.250540Z",
     "iopub.status.busy": "2025-04-12T12:10:23.249621Z",
     "iopub.status.idle": "2025-04-12T12:10:23.267859Z",
     "shell.execute_reply": "2025-04-12T12:10:23.266890Z",
     "shell.execute_reply.started": "2025-04-12T12:10:23.250512Z"
    },
    "trusted": true
   },
   "outputs": [
    {
     "data": {
      "text/plain": [
       "79.57"
      ]
     },
     "execution_count": 61,
     "metadata": {},
     "output_type": "execute_result"
    }
   ],
   "source": [
    "# 📊 Train Gaussian Naive Bayes\n",
    "gaussian = GaussianNB()\n",
    "gaussian.fit(X_train, Y_train)\n",
    "\n",
    "# 🔮 Predict survival for test set\n",
    "Y_pred = gaussian.predict(X_test)\n",
    "\n",
    "# 📊 Evaluate accuracy\n",
    "acc_gaussian = round(gaussian.score(X_train, Y_train) * 100, 2)\n",
    "acc_gaussian"
   ]
  },
  {
   "cell_type": "markdown",
   "metadata": {},
   "source": [
    "##### Jack & Rose:\n",
    "\n",
    "**Jack:**  \n",
    "> \"This is **Bayesian** magic, Rose! We predict survival based on the **likelihood** of a feature belonging to each class. It's all about understanding **how likely** you are to survive given what we know.\"\n",
    "\n",
    "**Rose:**  \n",
    "> “So, you’re telling me, Jack, that we’re predicting survival by assuming everything is independent and following a **normal distribution**?”\n",
    "\n",
    "**Jack:**  \n",
    "> \"Exactly. It’s a bit **idealistic**, but in the right context, Naive Bayes works wonders!\" \n",
    "\n",
    "##### What GNB Does:\n",
    "- **Naive Bayes** assumes that all features are **independent**, which is \"naive\" — hence the name.  \n",
    "- **Gaussian Naive Bayes** assumes that the features follow a **normal distribution**.\n",
    "- It's fast, and works well for smaller datasets or when **feature independence** holds."
   ]
  },
  {
   "cell_type": "markdown",
   "metadata": {},
   "source": [
    "> #### Jack just powered up with Perceptron, one of the simplest neural network-like algorithms. It’s like a basic brain deciding whether you’ll survive the Titanic based on the information at hand! "
   ]
  },
  {
   "cell_type": "code",
   "execution_count": 62,
   "metadata": {
    "execution": {
     "iopub.execute_input": "2025-04-12T12:10:30.123833Z",
     "iopub.status.busy": "2025-04-12T12:10:30.123534Z",
     "iopub.status.idle": "2025-04-12T12:10:30.139297Z",
     "shell.execute_reply": "2025-04-12T12:10:30.137830Z",
     "shell.execute_reply.started": "2025-04-12T12:10:30.123812Z"
    },
    "trusted": true
   },
   "outputs": [
    {
     "data": {
      "text/plain": [
       "72.28"
      ]
     },
     "execution_count": 62,
     "metadata": {},
     "output_type": "execute_result"
    }
   ],
   "source": [
    "# Train Perceptron (a simple neural network)\n",
    "perceptron = Perceptron()\n",
    "perceptron.fit(X_train, Y_train)\n",
    "\n",
    "# Predict survival for test set\n",
    "Y_pred = perceptron.predict(X_test)\n",
    "\n",
    "# Evaluate accuracy\n",
    "acc_perceptron = round(perceptron.score(X_train, Y_train) * 100, 2)\n",
    "acc_perceptron"
   ]
  },
  {
   "cell_type": "markdown",
   "metadata": {},
   "source": [
    "###### Jack & Rose:\n",
    "\n",
    "**Rose:**  \n",
    "> \"A neural network? But I thought we were just trying to survive the Titanic, not invent artificial intelligence!\" \n",
    "\n",
    "**Jack:**  \n",
    "> \"Well, the Perceptron is like a **basic brain**. It **learns from its mistakes** and gradually gets better at predicting survival, just like how I learned to trust you, Rose.\" \n",
    "\n",
    "##### What Perceptron Does:\n",
    "- The **Perceptron** is a linear classifier that works by **adjusting its weights** based on the errors it makes.\n",
    "- It's one of the **simplest neural networks**, and forms the foundation for more complex models.\n",
    "- It **iterates** and learns from misclassified data points until it finds an optimal set of weights."
   ]
  },
  {
   "cell_type": "markdown",
   "metadata": {},
   "source": [
    ">#### Jack just unleashed the power of Linear SVC (Support Vector Classification) — like a powerful line-drawing machine that classifies whether you’ll survive based on a linear decision boundary! "
   ]
  },
  {
   "cell_type": "code",
   "execution_count": 63,
   "metadata": {
    "execution": {
     "iopub.execute_input": "2025-04-12T12:10:30.640825Z",
     "iopub.status.busy": "2025-04-12T12:10:30.640368Z",
     "iopub.status.idle": "2025-04-12T12:10:30.701776Z",
     "shell.execute_reply": "2025-04-12T12:10:30.700597Z",
     "shell.execute_reply.started": "2025-04-12T12:10:30.640800Z"
    },
    "trusted": true
   },
   "outputs": [
    {
     "data": {
      "text/plain": [
       "77.89"
      ]
     },
     "execution_count": 63,
     "metadata": {},
     "output_type": "execute_result"
    }
   ],
   "source": [
    "# Train Linear SVC (Support Vector Classification)\n",
    "linear_svc = LinearSVC()\n",
    "linear_svc.fit(X_train, Y_train)\n",
    "\n",
    "# Predict survival for test set\n",
    "Y_pred = linear_svc.predict(X_test)\n",
    "\n",
    "# Evaluate accuracy\n",
    "acc_linear_svc = round(linear_svc.score(X_train, Y_train) * 100, 2)\n",
    "acc_linear_svc"
   ]
  },
  {
   "cell_type": "markdown",
   "metadata": {},
   "source": [
    "##### Jack & Rose:\n",
    "\n",
    "**Rose:**  \n",
    "> \"So, you’re telling me that we’re drawing a **line** that **separates** the survivors from the non-survivors?\" \n",
    "\n",
    "**Jack:**  \n",
    "> \"Exactly, Rose! Linear SVC is all about finding that **perfect line** that best divides our passengers. It's like choosing the best **path** to the lifeboats.\" \n",
    "\n",
    "##### What Linear SVC Does:\n",
    "- **Linear SVC** is similar to the regular SVM but optimized for **linear separation** of classes (survived or not).\n",
    "- It’s **efficient** and works great with **large datasets**, especially when data can be separated with a **linear decision boundary**.\n",
    "- **Linear** means that it draws a straight line to classify the data — no fancy curves or complex math!"
   ]
  },
  {
   "cell_type": "markdown",
   "metadata": {},
   "source": [
    ">#### Jack is now training with Stochastic Gradient Descent (SGD) — the fast learner that’s all about taking small steps towards improving predictions, while getting better over time! "
   ]
  },
  {
   "cell_type": "code",
   "execution_count": 64,
   "metadata": {
    "execution": {
     "iopub.execute_input": "2025-04-12T12:10:31.095216Z",
     "iopub.status.busy": "2025-04-12T12:10:31.094924Z",
     "iopub.status.idle": "2025-04-12T12:10:31.112744Z",
     "shell.execute_reply": "2025-04-12T12:10:31.111531Z",
     "shell.execute_reply.started": "2025-04-12T12:10:31.095196Z"
    },
    "trusted": true
   },
   "outputs": [
    {
     "data": {
      "text/plain": [
       "79.12"
      ]
     },
     "execution_count": 64,
     "metadata": {},
     "output_type": "execute_result"
    }
   ],
   "source": [
    "# Stochastic Gradient Descent\n",
    "\n",
    "sgd = SGDClassifier()\n",
    "sgd.fit(X_train, Y_train)\n",
    "Y_pred = sgd.predict(X_test)\n",
    "acc_sgd = round(sgd.score(X_train, Y_train) * 100, 2)\n",
    "acc_sgd"
   ]
  },
  {
   "cell_type": "markdown",
   "metadata": {},
   "source": [
    "##### Jack & Rose:\n",
    "\n",
    "**Rose:**  \n",
    "> \"Wait a minute, Jack. You’re telling me this model takes **little steps** towards the answer, instead of jumping to conclusions?\"\n",
    "\n",
    "**Jack:**  \n",
    "> \"Exactly, Rose! **Stochastic Gradient Descent** is like taking tiny, calculated steps in the right direction, **gradually improving** predictions until it finds the best answer!\" \n",
    "\n",
    "#####  What SGD Does:\n",
    "- **Stochastic Gradient Descent** works by adjusting weights for each training example **one by one** — hence the **stochastic** (random) part.\n",
    "- It's a **fast optimizer**, especially for **large datasets**.\n",
    "- **SGD** is like a **gradual learner**: it makes small updates in the **right direction** until it reaches a point of optimal prediction!"
   ]
  },
  {
   "cell_type": "markdown",
   "metadata": {},
   "source": [
    ">#### Jack just opened the Decision Tree, which works by asking a series of questions to split the data in the best way, like an expert guide helping you choose the right path to survival!"
   ]
  },
  {
   "cell_type": "code",
   "execution_count": 65,
   "metadata": {
    "execution": {
     "iopub.execute_input": "2025-04-12T12:10:31.602470Z",
     "iopub.status.busy": "2025-04-12T12:10:31.602088Z",
     "iopub.status.idle": "2025-04-12T12:10:31.620253Z",
     "shell.execute_reply": "2025-04-12T12:10:31.619094Z",
     "shell.execute_reply.started": "2025-04-12T12:10:31.602444Z"
    },
    "trusted": true
   },
   "outputs": [
    {
     "data": {
      "text/plain": [
       "98.2"
      ]
     },
     "execution_count": 65,
     "metadata": {},
     "output_type": "execute_result"
    }
   ],
   "source": [
    "# Decision Tree\n",
    "\n",
    "decision_tree = DecisionTreeClassifier()\n",
    "decision_tree.fit(X_train, Y_train)\n",
    "Y_pred = decision_tree.predict(X_test)\n",
    "acc_decision_tree = round(decision_tree.score(X_train, Y_train) * 100, 2)\n",
    "acc_decision_tree"
   ]
  },
  {
   "cell_type": "markdown",
   "metadata": {},
   "source": [
    "##### Jack & Rose:\n",
    "\n",
    "**Rose:**  \n",
    "> \"So, Jack, are you telling me this model makes decisions like **asking questions**: 'Are you female?', 'Are you a child?', 'What class are you in?'\"\n",
    "\n",
    "**Jack:**  \n",
    "> \"Exactly, Rose! The **Decision Tree** works by splitting the passengers based on **yes/no questions** at each step. It’s like creating a **map** of all the possible survival scenarios.\" \n",
    "\n",
    "\n",
    "##### What Decision Tree Does:\n",
    "- The **Decision Tree** breaks down complex decisions into **simple questions**, allowing it to **split** the data at each node.\n",
    "- It’s a **hierarchical structure**: at each split, the tree picks the **best feature** (like age, class, sex) to split the data into groups, until it classifies the target variable (survived or not).\n",
    "- It's very **interpretable** because you can **visualize** the tree and follow the **decisions** step-by-step."
   ]
  },
  {
   "cell_type": "markdown",
   "metadata": {},
   "source": [
    ">#### Jack just went full forest mode with Random Forests — a collection of decision trees working together to predict survival with stronger accuracy!"
   ]
  },
  {
   "cell_type": "code",
   "execution_count": 66,
   "metadata": {
    "execution": {
     "iopub.execute_input": "2025-04-12T12:10:36.396363Z",
     "iopub.status.busy": "2025-04-12T12:10:36.395988Z",
     "iopub.status.idle": "2025-04-12T12:10:36.680016Z",
     "shell.execute_reply": "2025-04-12T12:10:36.679154Z",
     "shell.execute_reply.started": "2025-04-12T12:10:36.396341Z"
    },
    "trusted": true
   },
   "outputs": [
    {
     "data": {
      "text/plain": [
       "98.2"
      ]
     },
     "execution_count": 66,
     "metadata": {},
     "output_type": "execute_result"
    }
   ],
   "source": [
    "# Train the Random Forest\n",
    "random_forest = RandomForestClassifier(n_estimators=100)\n",
    "random_forest.fit(X_train, Y_train)\n",
    "\n",
    "# Predict survival for test set\n",
    "Y_pred = random_forest.predict(X_test)\n",
    "\n",
    "# Evaluate accuracy\n",
    "random_forest.score(X_train, Y_train)\n",
    "acc_random_forest = round(random_forest.score(X_train, Y_train) * 100, 2)\n",
    "acc_random_forest"
   ]
  },
  {
   "cell_type": "markdown",
   "metadata": {},
   "source": [
    " ##### Jack & Rose:\n",
    "\n",
    "**Rose:**  \n",
    "> \"Jack, how’s this different from a **Decision Tree**? It's like you’re using **multiple trees** to predict, right?\"\n",
    "\n",
    "**Jack:**  \n",
    "> \"Exactly, Rose! Instead of just one decision tree, we **combine many trees** in the **Random Forest** to **vote** for the best survival prediction. It’s like asking a group of experts for their opinion, and **voting** on the most likely outcome!\" \n",
    "\n",
    "\n",
    "##### What Random Forest Does:\n",
    "- **Random Forest** is like a **team of decision trees**. Instead of relying on one tree, it **builds many** and aggregates their **votes** to make the final prediction.\n",
    "- It’s highly **accurate** because it reduces the **overfitting** problem (too much reliance on one tree).\n",
    "- **n_estimators=100** means the forest has 100 trees working together to make predictions, each with a different perspective."
   ]
  },
  {
   "cell_type": "markdown",
   "metadata": {},
   "source": [
    ">#### Here's how Jack and Rose can evaluate the models they've trained! 🌟 They're creating a leaderboard of the models' accuracies to see which one is the top predictor of survival on the Titanic!"
   ]
  },
  {
   "cell_type": "code",
   "execution_count": 67,
   "metadata": {
    "execution": {
     "iopub.execute_input": "2025-04-12T12:10:36.939728Z",
     "iopub.status.busy": "2025-04-12T12:10:36.939359Z",
     "iopub.status.idle": "2025-04-12T12:10:36.952205Z",
     "shell.execute_reply": "2025-04-12T12:10:36.951116Z",
     "shell.execute_reply.started": "2025-04-12T12:10:36.939704Z"
    },
    "trusted": true
   },
   "outputs": [
    {
     "data": {
      "text/html": [
       "<div>\n",
       "<style scoped>\n",
       "    .dataframe tbody tr th:only-of-type {\n",
       "        vertical-align: middle;\n",
       "    }\n",
       "\n",
       "    .dataframe tbody tr th {\n",
       "        vertical-align: top;\n",
       "    }\n",
       "\n",
       "    .dataframe thead th {\n",
       "        text-align: right;\n",
       "    }\n",
       "</style>\n",
       "<table border=\"1\" class=\"dataframe\">\n",
       "  <thead>\n",
       "    <tr style=\"text-align: right;\">\n",
       "      <th></th>\n",
       "      <th>Model</th>\n",
       "      <th>Score</th>\n",
       "    </tr>\n",
       "  </thead>\n",
       "  <tbody>\n",
       "    <tr>\n",
       "      <th>3</th>\n",
       "      <td>Random Forest</td>\n",
       "      <td>98.20</td>\n",
       "    </tr>\n",
       "    <tr>\n",
       "      <th>8</th>\n",
       "      <td>Decision Tree</td>\n",
       "      <td>98.20</td>\n",
       "    </tr>\n",
       "    <tr>\n",
       "      <th>1</th>\n",
       "      <td>KNN</td>\n",
       "      <td>84.74</td>\n",
       "    </tr>\n",
       "    <tr>\n",
       "      <th>2</th>\n",
       "      <td>Logistic Regression</td>\n",
       "      <td>81.71</td>\n",
       "    </tr>\n",
       "    <tr>\n",
       "      <th>4</th>\n",
       "      <td>Naive Bayes</td>\n",
       "      <td>79.57</td>\n",
       "    </tr>\n",
       "    <tr>\n",
       "      <th>6</th>\n",
       "      <td>Stochastic Gradient Decent</td>\n",
       "      <td>79.12</td>\n",
       "    </tr>\n",
       "    <tr>\n",
       "      <th>7</th>\n",
       "      <td>Linear SVC</td>\n",
       "      <td>77.89</td>\n",
       "    </tr>\n",
       "    <tr>\n",
       "      <th>5</th>\n",
       "      <td>Perceptron</td>\n",
       "      <td>72.28</td>\n",
       "    </tr>\n",
       "    <tr>\n",
       "      <th>0</th>\n",
       "      <td>Support Vector Machines</td>\n",
       "      <td>68.35</td>\n",
       "    </tr>\n",
       "  </tbody>\n",
       "</table>\n",
       "</div>"
      ],
      "text/plain": [
       "                        Model  Score\n",
       "3               Random Forest  98.20\n",
       "8               Decision Tree  98.20\n",
       "1                         KNN  84.74\n",
       "2         Logistic Regression  81.71\n",
       "4                 Naive Bayes  79.57\n",
       "6  Stochastic Gradient Decent  79.12\n",
       "7                  Linear SVC  77.89\n",
       "5                  Perceptron  72.28\n",
       "0     Support Vector Machines  68.35"
      ]
     },
     "execution_count": 67,
     "metadata": {},
     "output_type": "execute_result"
    }
   ],
   "source": [
    "models = pd.DataFrame({\n",
    "    'Model': ['Support Vector Machines', 'KNN', 'Logistic Regression', \n",
    "              'Random Forest', 'Naive Bayes', 'Perceptron', \n",
    "              'Stochastic Gradient Decent', 'Linear SVC', \n",
    "              'Decision Tree'],\n",
    "    'Score': [acc_svc, acc_knn, acc_log, \n",
    "              acc_random_forest, acc_gaussian, acc_perceptron, \n",
    "              acc_sgd, acc_linear_svc, acc_decision_tree]})\n",
    "models.sort_values(by='Score', ascending=False)"
   ]
  },
  {
   "cell_type": "markdown",
   "metadata": {},
   "source": [
    "##### Jack & Rose:\n",
    "\n",
    "**Rose:**  \n",
    "> \"Alright, Jack! Time to **rank** the models! Which one’s going to get us to the **highest survival prediction**?\"\n",
    "\n",
    "**Jack:**  \n",
    "> \"Let’s see the results, Rose! **Random Forest** and **SVM** seem to be leading the pack, but let’s check the **leaderboard** to be sure!\" \n",
    "\n",
    "##### What's Happening:\n",
    "- The **DataFrame** created is a **leaderboard** of all the models Jack and Rose tested.\n",
    "- They sort the **models by accuracy**, so they can clearly see which model did the best at predicting survival!\n",
    "- The highest **accuracy** indicates the **best model** at capturing the patterns in the data."
   ]
  },
  {
   "cell_type": "markdown",
   "metadata": {},
   "source": [
    "# Connect with Me  \n",
    "\n",
    "Feel free to follow me on these platforms:  \n",
    "\n",
    "[![GitHub](https://img.shields.io/badge/GitHub-181717?style=for-the-badge&logo=github&logoColor=white)](https://github.com/AdilShamim8)  \n",
    "[![LinkedIn](https://img.shields.io/badge/LinkedIn-0077B5?style=for-the-badge&logo=linkedin&logoColor=white)](https://www.linkedin.com/in/adilshamim8)  \n",
    "[![Twitter](https://img.shields.io/badge/Twitter-1DA1F2?style=for-the-badge&logo=twitter&logoColor=white)](https://x.com/adil_shamim8)  "
   ]
  }
 ],
 "metadata": {
  "kaggle": {
   "accelerator": "nvidiaTeslaT4",
   "dataSources": [
    {
     "databundleVersionId": 26502,
     "sourceId": 3136,
     "sourceType": "competition"
    }
   ],
   "dockerImageVersionId": 31012,
   "isGpuEnabled": true,
   "isInternetEnabled": true,
   "language": "python",
   "sourceType": "notebook"
  },
  "kernelspec": {
   "display_name": "Python 3",
   "language": "python",
   "name": "python3"
  },
  "language_info": {
   "codemirror_mode": {
    "name": "ipython",
    "version": 3
   },
   "file_extension": ".py",
   "mimetype": "text/x-python",
   "name": "python",
   "nbconvert_exporter": "python",
   "pygments_lexer": "ipython3",
   "version": "3.11.11"
  }
 },
 "nbformat": 4,
 "nbformat_minor": 4
}
